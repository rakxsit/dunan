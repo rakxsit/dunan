{
 "cells": [
  {
   "cell_type": "code",
   "execution_count": 2,
   "metadata": {},
   "outputs": [],
   "source": [
    "# Align all .wav files in JW* directories for which a transcript .txt\n",
    "# file exists.\n",
    "\n",
    "import burst_detect as bd\n",
    "import os\n",
    "from glob import glob\n",
    "import numpy as np\n",
    "import pandas as pd\n",
    "\n",
    "import matplotlib.pyplot as plt"
   ]
  },
  {
   "cell_type": "code",
   "execution_count": 19,
   "metadata": {},
   "outputs": [
    {
     "data": {
      "text/plain": [
       "4275"
      ]
     },
     "execution_count": 19,
     "metadata": {},
     "output_type": "execute_result"
    }
   ],
   "source": [
    "check = pd.read_csv('targets/target_phones_all.csv')"
   ]
  },
  {
   "cell_type": "code",
   "execution_count": 24,
   "metadata": {},
   "outputs": [
    {
     "data": {
      "text/plain": [
       "28"
      ]
     },
     "execution_count": 24,
     "metadata": {},
     "output_type": "execute_result"
    }
   ],
   "source": [
    "len(set(check.fname.str.split('/').str[0]))"
   ]
  },
  {
   "cell_type": "code",
   "execution_count": 28,
   "metadata": {},
   "outputs": [],
   "source": [
    "df = pd.read_csv('targets/target_phones_nooutliers.csv')"
   ]
  },
  {
   "cell_type": "code",
   "execution_count": 29,
   "metadata": {},
   "outputs": [
    {
     "data": {
      "text/plain": [
       "28"
      ]
     },
     "execution_count": 29,
     "metadata": {},
     "output_type": "execute_result"
    }
   ],
   "source": [
    "len(set(df.fname.str.split('/').str[0]))"
   ]
  },
  {
   "cell_type": "code",
   "execution_count": 30,
   "metadata": {},
   "outputs": [],
   "source": [
    "df['new_start'] = df.apply(lambda row: row['prev_phon_start'] if row['prev_phon'] == 'sp' else row['phon_start'], axis = 1)"
   ]
  },
  {
   "cell_type": "code",
   "execution_count": 36,
   "metadata": {},
   "outputs": [],
   "source": [
    "df_stops = df.query('onset in [\"tt\", \"kk\", \"t\", \"k\"]').reset_index(drop = True)"
   ]
  },
  {
   "cell_type": "code",
   "execution_count": 9,
   "metadata": {},
   "outputs": [
    {
     "data": {
      "text/plain": [
       "'YO0010c_yoneshiro_europestory_20130424/aligned/25.TextGrid'"
      ]
     },
     "execution_count": 9,
     "metadata": {},
     "output_type": "execute_result"
    }
   ],
   "source": [
    "df_stops.iloc[4].fname"
   ]
  },
  {
   "cell_type": "code",
   "execution_count": 37,
   "metadata": {},
   "outputs": [],
   "source": [
    "df_stops.to_csv('targets/stop_targets.csv', index = False)"
   ]
  },
  {
   "cell_type": "code",
   "execution_count": 38,
   "metadata": {
    "collapsed": true,
    "jupyter": {
     "outputs_hidden": true
    },
    "tags": []
   },
   "outputs": [],
   "source": [
    "b_time = []\n",
    "b_strength = []\n",
    "\n",
    "for i, row in df_stops.iterrows():\n",
    "    \n",
    "    time, strength = bd.burst(row['fname'].replace('.TextGrid', '.wav').replace('aligned','unaligned'), row['new_start'], row['phon_end'])\n",
    "    \n",
    "    b_time.append(time)\n",
    "    b_strength.append(strength)\n",
    "    \n",
    "# detect burst -  return location in time and strength of burst\n",
    "#(b_time,b_strength) = burst(wav,phone.t1, phone.t2)"
   ]
  },
  {
   "cell_type": "code",
   "execution_count": 41,
   "metadata": {},
   "outputs": [],
   "source": [
    "df_stops['burst_time'] = b_time\n",
    "df_stops['burst_strength'] = b_strength\n",
    "\n",
    "df_stops = df_stops.drop('Unnamed: 0', axis = 1)\n",
    "\n",
    "df_stops.to_csv('targets/stop_targets.csv', index = False)"
   ]
  },
  {
   "cell_type": "code",
   "execution_count": 20,
   "metadata": {},
   "outputs": [
    {
     "data": {
      "text/plain": [
       "1.47"
      ]
     },
     "execution_count": 20,
     "metadata": {},
     "output_type": "execute_result"
    }
   ],
   "source": [
    "test['fname'].replace('.TextGrid', '.wav').replace('aligned', 'unaligned')\n",
    "test['new_start']\n",
    "test['phon_end']"
   ]
  },
  {
   "cell_type": "code",
   "execution_count": 16,
   "metadata": {},
   "outputs": [
    {
     "ename": "CalledProcessError",
     "evalue": "Command '['pplain', '-fre_spec_val_d1', 'nodiff.fea']' returned non-zero exit status 1.",
     "output_type": "error",
     "traceback": [
      "\u001b[0;31m---------------------------------------------------------------------------\u001b[0m",
      "\u001b[0;31mCalledProcessError\u001b[0m                        Traceback (most recent call last)",
      "\u001b[0;32m<ipython-input-16-b2c4d67d2208>\u001b[0m in \u001b[0;36m<module>\u001b[0;34m\u001b[0m\n\u001b[1;32m      1\u001b[0m \u001b[0mtest\u001b[0m \u001b[0;34m=\u001b[0m \u001b[0mdf\u001b[0m\u001b[0;34m.\u001b[0m\u001b[0miloc\u001b[0m\u001b[0;34m[\u001b[0m\u001b[0;36m1\u001b[0m\u001b[0;34m]\u001b[0m\u001b[0;34m\u001b[0m\u001b[0;34m\u001b[0m\u001b[0m\n\u001b[1;32m      2\u001b[0m \u001b[0;34m\u001b[0m\u001b[0m\n\u001b[0;32m----> 3\u001b[0;31m \u001b[0mburst\u001b[0m\u001b[0;34m(\u001b[0m\u001b[0mtest\u001b[0m\u001b[0;34m[\u001b[0m\u001b[0;34m'fname'\u001b[0m\u001b[0;34m]\u001b[0m\u001b[0;34m.\u001b[0m\u001b[0mreplace\u001b[0m\u001b[0;34m(\u001b[0m\u001b[0;34m'.TextGrid'\u001b[0m\u001b[0;34m,\u001b[0m \u001b[0;34m'.wav'\u001b[0m\u001b[0;34m)\u001b[0m\u001b[0;34m.\u001b[0m\u001b[0mreplace\u001b[0m\u001b[0;34m(\u001b[0m\u001b[0;34m'aligned'\u001b[0m\u001b[0;34m,\u001b[0m \u001b[0;34m'unaligned'\u001b[0m\u001b[0;34m)\u001b[0m\u001b[0;34m,\u001b[0m \u001b[0mtest\u001b[0m\u001b[0;34m[\u001b[0m\u001b[0;34m'new_start'\u001b[0m\u001b[0;34m]\u001b[0m\u001b[0;34m*\u001b[0m\u001b[0;36m1000\u001b[0m\u001b[0;34m,\u001b[0m \u001b[0mtest\u001b[0m\u001b[0;34m[\u001b[0m\u001b[0;34m'phon_end'\u001b[0m\u001b[0;34m]\u001b[0m\u001b[0;34m*\u001b[0m\u001b[0;36m1000\u001b[0m\u001b[0;34m)\u001b[0m\u001b[0;34m\u001b[0m\u001b[0;34m\u001b[0m\u001b[0m\n\u001b[0m",
      "\u001b[0;32m<ipython-input-5-a89d4ca06432>\u001b[0m in \u001b[0;36mburst\u001b[0;34m(soundfile, start_time, end_time)\u001b[0m\n\u001b[1;32m    197\u001b[0m     \u001b[0;31m# 'wave_burst' function (defined earlier) finds values associated with stop burst in waveform\u001b[0m\u001b[0;34m\u001b[0m\u001b[0;34m\u001b[0m\u001b[0;34m\u001b[0m\u001b[0m\n\u001b[1;32m    198\u001b[0m     \u001b[0mwave_burst\u001b[0m\u001b[0;34m(\u001b[0m\u001b[0mt\u001b[0m\u001b[0;34m,\u001b[0m\u001b[0msf\u001b[0m\u001b[0;34m,\u001b[0m\u001b[0mpol\u001b[0m\u001b[0;34m,\u001b[0m\u001b[0mdata\u001b[0m\u001b[0;34m)\u001b[0m \u001b[0;31m# looks for big jumps in waveform\u001b[0m\u001b[0;34m\u001b[0m\u001b[0;34m\u001b[0m\u001b[0m\n\u001b[0;32m--> 199\u001b[0;31m     \u001b[0mspec_burst\u001b[0m\u001b[0;34m(\u001b[0m\u001b[0ms_samp\u001b[0m\u001b[0;34m,\u001b[0m\u001b[0me_samp\u001b[0m\u001b[0;34m,\u001b[0m\u001b[0mt\u001b[0m\u001b[0;34m,\u001b[0m\u001b[0msf\u001b[0m\u001b[0;34m,\u001b[0m\u001b[0msd\u001b[0m\u001b[0;34m)\u001b[0m \u001b[0;31m# looks for big jumps in spectra\u001b[0m\u001b[0;34m\u001b[0m\u001b[0;34m\u001b[0m\u001b[0m\n\u001b[0m\u001b[1;32m    200\u001b[0m \u001b[0;34m\u001b[0m\u001b[0m\n\u001b[1;32m    201\u001b[0m         \u001b[0;31m# candidate is a dictionary/dict that will have 0-3 entries depending on loop\u001b[0m\u001b[0;34m\u001b[0m\u001b[0;34m\u001b[0m\u001b[0;34m\u001b[0m\u001b[0m\n",
      "\u001b[0;32m<ipython-input-5-a89d4ca06432>\u001b[0m in \u001b[0;36mspec_burst\u001b[0;34m(s, e, t, sf, sd)\u001b[0m\n\u001b[1;32m    143\u001b[0m     \u001b[0mret\u001b[0m\u001b[0;34m=\u001b[0m\u001b[0msubprocess\u001b[0m\u001b[0;34m.\u001b[0m\u001b[0mcheck_call\u001b[0m\u001b[0;34m(\u001b[0m\u001b[0;34m\"melspec -H300:{} -n60 temp1.fea temp2.fea\"\u001b[0m\u001b[0;34m.\u001b[0m\u001b[0mformat\u001b[0m\u001b[0;34m(\u001b[0m\u001b[0mnyquist\u001b[0m\u001b[0;34m)\u001b[0m\u001b[0;34m.\u001b[0m\u001b[0msplit\u001b[0m\u001b[0;34m(\u001b[0m\u001b[0;34m)\u001b[0m\u001b[0;34m)\u001b[0m\u001b[0;34m\u001b[0m\u001b[0;34m\u001b[0m\u001b[0m\n\u001b[1;32m    144\u001b[0m     \u001b[0mret\u001b[0m\u001b[0;34m=\u001b[0m\u001b[0msubprocess\u001b[0m\u001b[0;34m.\u001b[0m\u001b[0mcheck_call\u001b[0m\u001b[0;34m(\u001b[0m\u001b[0;34m\"nodiff -o1 -fre_spec_val temp2.fea nodiff.fea\"\u001b[0m\u001b[0;34m.\u001b[0m\u001b[0msplit\u001b[0m\u001b[0;34m(\u001b[0m\u001b[0;34m)\u001b[0m\u001b[0;34m)\u001b[0m  \u001b[0;31m# spectral change\u001b[0m\u001b[0;34m\u001b[0m\u001b[0;34m\u001b[0m\u001b[0m\n\u001b[0;32m--> 145\u001b[0;31m     \u001b[0mdiffstring\u001b[0m \u001b[0;34m=\u001b[0m \u001b[0msubprocess\u001b[0m\u001b[0;34m.\u001b[0m\u001b[0mcheck_output\u001b[0m\u001b[0;34m(\u001b[0m\u001b[0;34m[\u001b[0m\u001b[0;34m\"pplain\"\u001b[0m\u001b[0;34m,\u001b[0m\u001b[0;34m\"-fre_spec_val_d1\"\u001b[0m\u001b[0;34m,\u001b[0m\u001b[0;34m\"nodiff.fea\"\u001b[0m\u001b[0;34m]\u001b[0m\u001b[0;34m)\u001b[0m\u001b[0;34m\u001b[0m\u001b[0;34m\u001b[0m\u001b[0m\n\u001b[0m\u001b[1;32m    146\u001b[0m     \u001b[0mlines\u001b[0m \u001b[0;34m=\u001b[0m \u001b[0mdiffstring\u001b[0m\u001b[0;34m.\u001b[0m\u001b[0mdecode\u001b[0m\u001b[0;34m(\u001b[0m\u001b[0;34m)\u001b[0m\u001b[0;34m.\u001b[0m\u001b[0mrstrip\u001b[0m\u001b[0;34m(\u001b[0m\u001b[0;34m)\u001b[0m\u001b[0;34m.\u001b[0m\u001b[0msplit\u001b[0m\u001b[0;34m(\u001b[0m\u001b[0;34m'\\n'\u001b[0m\u001b[0;34m)\u001b[0m    \u001b[0;31m# break the string into separate values\u001b[0m\u001b[0;34m\u001b[0m\u001b[0;34m\u001b[0m\u001b[0m\n\u001b[1;32m    147\u001b[0m     \u001b[0;32mfor\u001b[0m \u001b[0ml\u001b[0m \u001b[0;32min\u001b[0m \u001b[0mlines\u001b[0m\u001b[0;34m:\u001b[0m\u001b[0;34m\u001b[0m\u001b[0;34m\u001b[0m\u001b[0m\n",
      "\u001b[0;32m~/miniconda3/lib/python3.7/subprocess.py\u001b[0m in \u001b[0;36mcheck_output\u001b[0;34m(timeout, *popenargs, **kwargs)\u001b[0m\n\u001b[1;32m    393\u001b[0m \u001b[0;34m\u001b[0m\u001b[0m\n\u001b[1;32m    394\u001b[0m     return run(*popenargs, stdout=PIPE, timeout=timeout, check=True,\n\u001b[0;32m--> 395\u001b[0;31m                **kwargs).stdout\n\u001b[0m\u001b[1;32m    396\u001b[0m \u001b[0;34m\u001b[0m\u001b[0m\n\u001b[1;32m    397\u001b[0m \u001b[0;34m\u001b[0m\u001b[0m\n",
      "\u001b[0;32m~/miniconda3/lib/python3.7/subprocess.py\u001b[0m in \u001b[0;36mrun\u001b[0;34m(input, capture_output, timeout, check, *popenargs, **kwargs)\u001b[0m\n\u001b[1;32m    485\u001b[0m         \u001b[0;32mif\u001b[0m \u001b[0mcheck\u001b[0m \u001b[0;32mand\u001b[0m \u001b[0mretcode\u001b[0m\u001b[0;34m:\u001b[0m\u001b[0;34m\u001b[0m\u001b[0;34m\u001b[0m\u001b[0m\n\u001b[1;32m    486\u001b[0m             raise CalledProcessError(retcode, process.args,\n\u001b[0;32m--> 487\u001b[0;31m                                      output=stdout, stderr=stderr)\n\u001b[0m\u001b[1;32m    488\u001b[0m     \u001b[0;32mreturn\u001b[0m \u001b[0mCompletedProcess\u001b[0m\u001b[0;34m(\u001b[0m\u001b[0mprocess\u001b[0m\u001b[0;34m.\u001b[0m\u001b[0margs\u001b[0m\u001b[0;34m,\u001b[0m \u001b[0mretcode\u001b[0m\u001b[0;34m,\u001b[0m \u001b[0mstdout\u001b[0m\u001b[0;34m,\u001b[0m \u001b[0mstderr\u001b[0m\u001b[0;34m)\u001b[0m\u001b[0;34m\u001b[0m\u001b[0;34m\u001b[0m\u001b[0m\n\u001b[1;32m    489\u001b[0m \u001b[0;34m\u001b[0m\u001b[0m\n",
      "\u001b[0;31mCalledProcessError\u001b[0m: Command '['pplain', '-fre_spec_val_d1', 'nodiff.fea']' returned non-zero exit status 1."
     ]
    }
   ],
   "source": [
    "test = df.iloc[1]\n",
    "\n",
    "burst(test['fname'].replace('.TextGrid', '.wav').replace('aligned', 'unaligned'), test['new_start']*1000, test['phon_end']*1000)"
   ]
  },
  {
   "cell_type": "code",
   "execution_count": 14,
   "metadata": {},
   "outputs": [
    {
     "data": {
      "text/plain": [
       "1320.0"
      ]
     },
     "execution_count": 14,
     "metadata": {},
     "output_type": "execute_result"
    }
   ],
   "source": [
    "test['new_start']*1000"
   ]
  },
  {
   "cell_type": "code",
   "execution_count": null,
   "metadata": {},
   "outputs": [],
   "source": [
    "target_segments = re.compile(u\"^(TH|DH|T|D|S|Z|SH|ZH|CH|J)$\",re.IGNORECASE)\n",
    "\n",
    "for jwdir in glob('./JW13'):\n",
    "    print(jwdir, sep=\"\\t\")\n",
    "\n",
    "    for tg in glob(jwdir + '/tp???.TextGrid'):\n",
    "        txy = tg.replace('.TextGrid', '.txy')\n",
    "        wav = tg.replace('.TextGrid', '.wav')\n",
    "        if not os.path.isfile(txy):\n",
    "            continue\n",
    "        #print(tg, sep=\"\\t\")\n",
    "        pm = al.LabelManager(from_file=tg, from_type='praat')\n",
    "        # here use pandas to read txy data as an R-like dataframe\n",
    "        df = pd.read_csv(txy,sep='\\t',na_values=\"1000000\",\n",
    "            names=[\n",
    "                'time', 'ULx', 'ULy', 'LLx', 'LLy', 'T1x', 'T1y', 'T2x', 'T2y',\n",
    "                'T3x', 'T3y', 'T4x', 'T4y', 'MIx', 'MIy', 'MMx', 'MMy'\n",
    "            ]\n",
    "        )\n",
    "        df = df * 1e-3  # convert xy to mm, and time values to msec\n",
    "        df['time'] = df['time'] * 1e-3   # Convert to seconds\n",
    "        df['sec'] = df['time']\n",
    "        df = df.set_index(['sec'])\n",
    "            \n",
    "        for phone in pm.tier('phone').search(target_segments):\n",
    "             word = (pm.tier('word').label_at(phone.center)).text\n",
    "             \n",
    "             # report on the context phones\n",
    "             try:  # in case the phone has no previous label\n",
    "                 previous_phone = (pm.tier('phone').prev(phone)).text\n",
    "             except:\n",
    "                 previous_phone = \"NONE\"\n",
    "             try:  # in case the phone has no following label\n",
    "                 following_phone = (pm.tier('phone').next(phone)).text\n",
    "             except:\n",
    "                 following_phone = \"NONE\"\n",
    "                 \n",
    "             # detect burst -  return location in time and strength of burst\n",
    "             (b_time,b_strength) = burst(wav,phone.t1, phone.t2)\n",
    "             \n",
    "             # select a window of data relative to the end of the phone (.t2)\n",
    "             t1idx = df.index.get_loc(phone.t2-0.2, method='nearest')\n",
    "             t2idx = df.index.get_loc(phone.t2+0.1, method='nearest')\n",
    "             \n",
    "             sel = df.iloc[t1idx:t2idx]\n",
    "             sel = sel.assign(time_from_end=lambda x: x.time - phone.t2,\n",
    "                               word=word,phone=phone.text,\n",
    "                               start=np.round(phone.t1,3),\n",
    "                               end=np.round(phone.t2,3),\n",
    "                               prev=previous_phone,\n",
    "                               following = following_phone,\n",
    "                               burst_time = np.round(b_time,3),\n",
    "                               burst_strength = np.round(b_strength,3),\n",
    "                               dir=jwdir,tg=tg\n",
    "                             )\n",
    "             #sel = sel.reset_index(drop=True)\n",
    "             try: \n",
    "                 big_df = pd.concat([big_df,sel])\n",
    "             except NameError:\n",
    "                 big_df = sel  # first time\n",
    "            \n",
    "             \n",
    "            \n",
    "    try:         \n",
    "        big_df.to_csv(jwdir + \"/COR_STOP_FRIC.csv\",index=False)            \n",
    "        del big_df    \n",
    "    except (RuntimeError, TypeError, NameError):\n",
    "        pass\n"
   ]
  }
 ],
 "metadata": {
  "kernelspec": {
   "display_name": "Python 3",
   "language": "python",
   "name": "python3"
  },
  "language_info": {
   "codemirror_mode": {
    "name": "ipython",
    "version": 3
   },
   "file_extension": ".py",
   "mimetype": "text/x-python",
   "name": "python",
   "nbconvert_exporter": "python",
   "pygments_lexer": "ipython3",
   "version": "3.7.2"
  }
 },
 "nbformat": 4,
 "nbformat_minor": 5
}
