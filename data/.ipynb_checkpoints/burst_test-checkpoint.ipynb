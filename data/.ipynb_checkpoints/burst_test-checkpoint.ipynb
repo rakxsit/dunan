{
 "cells": [
  {
   "cell_type": "code",
   "execution_count": 1,
   "id": "4fcd64d8",
   "metadata": {},
   "outputs": [],
   "source": [
    "# Align all .wav files in JW* directories for which a transcript .txt\n",
    "# file exists.\n",
    "\n",
    "import os\n",
    "from glob import glob\n",
    "import audiolabel as al\n",
    "import re\n",
    "import numpy as np\n",
    "import pandas as pd\n",
    "import subprocess\n",
    "import math\n",
    "from scipy.io import wavfile\n",
    "\n",
    "import parselmouth as ps\n",
    "import matplotlib.pyplot as plt"
   ]
  },
  {
   "cell_type": "code",
   "execution_count": 2,
   "id": "f27108dc",
   "metadata": {},
   "outputs": [],
   "source": [
    "debug = 0 # this will toggle printing if you want to debug\n",
    "\n",
    "# Notebook doesn't require these first two lines, but if importing this script somewhere else,\n",
    "# shebang and utf-8 encoding lines will tell command line to use python, etc.\n",
    "\n",
    "'''VOT_290.py\n",
    "\n",
    "VOT_290.py  - measure VOT in all of the stops in a given sound file (as\n",
    "              found in files used by ling290 fall 2015).\n",
    "\n",
    "Usage: VOT_290.py soundfile_name\n",
    "# in terminal, navigate to folder containing script and files\n",
    "# ./VOT_290.py *.wav > data.txt\n",
    "\n",
    "Arguments:\n",
    "  soundfile_name   a soundfile to be analyzed.\n",
    "  \n",
    "Assumption\n",
    "    there is also a file soundfile_name.TextGrid that has a phone tier and a word tier\n",
    "    \n",
    "'''\n",
    "\n",
    "# Authors: Keith Johnson (keithjohnson@berkeley.edu)\n",
    "# \n",
    "# Copyright (c) 2015, The Regents of the University of California\n",
    "# All rights reserved.\n",
    "# \n",
    "# Redistribution and use in source and binary forms, with or without\n",
    "# modification, are permitted provided that the following conditions are met:\n",
    "# \n",
    "# * Redistributions of source code must retain the above copyright notice, this\n",
    "#   list of conditions and the following disclaimer.\n",
    "# \n",
    "# * Redistributions in binary form must reproduce the above copyright notice,\n",
    "#   this list of conditions and the following disclaimer in the documentation\n",
    "#   and/or other materials provided with the distribution.\n",
    "# \n",
    "# * Neither the name of the University of California nor the names of its\n",
    "#   contributors may be used to endorse or promote products derived from\n",
    "#   this software without specific prior written permission.\n",
    "# \n",
    "# THIS SOFTWARE IS PROVIDED BY THE COPYRIGHT HOLDERS AND CONTRIBUTORS \"AS IS\"\n",
    "# AND ANY EXPRESS OR IMPLIED WARRANTIES, INCLUDING, BUT NOT LIMITED TO, THE\n",
    "# IMPLIED WARRANTIES OF MERCHANTABILITY AND FITNESS FOR A PARTICULAR PURPOSE ARE\n",
    "# DISCLAIMED. IN NO EVENT SHALL THE COPYRIGHT HOLDER OR CONTRIBUTORS BE LIABLE\n",
    "# FOR ANY DIRECT, INDIRECT, INCIDENTAL, SPECIAL, EXEMPLARY, OR CONSEQUENTIAL\n",
    "# DAMAGES (INCLUDING, BUT NOT LIMITED TO, PROCUREMENT OF SUBSTITUTE GOODS OR\n",
    "# SERVICES; LOSS OF USE, DATA, OR PROFITS; OR BUSINESS INTERRUPTION) HOWEVER\n",
    "# CAUSED AND ON ANY THEORY OF LIABILITY, WHETHER IN CONTRACT, STRICT LIABILITY,\n",
    "# OR TORT (INCLUDING NEGLIGENCE OR OTHERWISE) ARISING IN ANY WAY OUT OF THE USE\n",
    "# OF THIS SOFTWARE, EVEN IF ADVISED OF THE POSSIBILITY OF SUCH DAMAGE.\n",
    "\n",
    "\n",
    "import subprocess\n",
    "import math\n",
    "from scipy.io import wavfile\n",
    "\n",
    "#-----------------------------\n",
    "# This script uses the following functions from the ESPS library for speech processing\n",
    "#   - hditem: get information from a wav or fea file header\n",
    "#   - fft: spectral analysis, producing a single spectrum or a spectrogram\n",
    "#   - melspec: convert an fft spectrum into a \"Mel transformed\" auditory spectrum\n",
    "#   - pplain: print values from fea files (spectra) to plain text\n",
    "\n",
    "# Read about these and other ESPS routines in the Berkeley Phonetics Machine \n",
    "# using the 'man' command.   For example:\n",
    "#       > man fft \n",
    "# will show the manual page for the fft routine\n",
    "#-------------------------\n",
    "\n",
    "w_score = [0.0,0.0,0.0]\n",
    "s_score = [0.0,0.0,0.0]\n",
    "w_time = [0.0,0.0,0.0]\n",
    "s_time = [0.0,0.0,0.0]\n",
    "step = 0.005  # 5 ms steps\n",
    "\n",
    "def usage():\n",
    "    print(\"burst(): expected three arguments: sound_file, start_time, end_time\")\n",
    "\n",
    "\n",
    "# assigns -1 or 1 depending on if neg_peak or pos_peak has a greater magnitude/abs value\n",
    "def polarity(d=[]):\n",
    "    neg_peak = 0\n",
    "    pos_peak = 0\n",
    "    \n",
    "    for i in range(len(d)):\n",
    "        if d[i] < neg_peak:\n",
    "            neg_peak = d[i]\n",
    "        if d[i] > pos_peak:\n",
    "            pos_peak = d[i]\n",
    "    if -neg_peak > pos_peak:\n",
    "        return -1\n",
    "    else:\n",
    "        return 1\n",
    "    \n",
    "# return T or F for if 'j' is a peak or a valley\n",
    "def is_peak(i,j,k):\n",
    "    return ((i<j) & (j>k))\n",
    "\n",
    "def is_valley(i,j,k):\n",
    "    return ((i>j) & (j<k))\n",
    "\n",
    "# define stop burst in waveform?\n",
    "# loop over all the sample data and determine if current value is a peak or valley\n",
    "def wave_burst(t,sf,pol, d=[]):\n",
    "    global w_score\n",
    "    w_score[:] = [0.0,0.0,0.0]\n",
    "    global w_time\n",
    "    w_time[:] = [0.0,0.0,0.0]\n",
    "    \n",
    "    for loc in range(t,len(d)-2):\n",
    "        if ((pol>0 and is_peak(d[loc],d[loc+1],d[loc+2])) or \n",
    "            (pol<0 and is_valley(d[loc],d[loc+1],d[loc+2]))):\n",
    "                ave=0\n",
    "                for i in range(t,1,-1):\n",
    "                    ave += math.fabs(d[loc-i] - d[loc-(i+1)])\n",
    "                ave /= t\n",
    "                change = math.fabs(d[loc]-d[loc+1])/ave\n",
    "                for i in range(3):\n",
    "                    if change > w_score[i]:\n",
    "                        if (i<2):\n",
    "                            w_score[2] = w_score[1]\n",
    "                            w_time[2] = w_time[1]\n",
    "                        if (i<1):\n",
    "                            w_score[1] = w_score[0]\n",
    "                            w_time[1] = w_time[0]\n",
    "                        w_score[i] = change\n",
    "                        w_time[i] = float(loc)/sf\n",
    "                        break\n",
    "                        \n",
    "# define burst in spectrogram?\n",
    "# subprocesses are functions for spetral analysis\n",
    "def spec_burst (s,e,t,sf,sd):\n",
    "    \n",
    "    global s_score \n",
    "    s_score[:] = [0,0,0]\n",
    "    global s_time\n",
    "    s_time[:] = [0,0,0]\n",
    "    diff = []\n",
    "    nyquist = sf/2\n",
    "    \n",
    "    ret=subprocess.check_call(\"fft -z -wHamming -l{} -S{} -r{}:{} {} temp1.fea\".format(t,t,s,e,sd).split())            \n",
    "    ret=subprocess.check_call(\"melspec -H300:{} -n60 temp1.fea temp2.fea\".format(nyquist).split())\n",
    "    ret=subprocess.check_call(\"nodiff -o1 -fre_spec_val temp2.fea nodiff.fea\".split())  # spectral change\n",
    "    diffstring = subprocess.check_output([\"pplain\",\"-fre_spec_val_d1\",\"nodiff.fea\"])\n",
    "    lines = diffstring.decode().rstrip().split('\\n')    # break the string into separate values\n",
    "    for l in lines:\n",
    "        line = list(map(float,l.split()))           # convert array from string to floating point number\n",
    "        diff.append(sum(line))\n",
    "\n",
    "    for loc in range(len(diff)):\n",
    "        d = diff[loc]\n",
    "        for i in range(3):\n",
    "            if d > s_score[i]:\n",
    "                if (i<2):\n",
    "                    s_score[2] = s_score[1]\n",
    "                    s_time[2] = s_time[1]\n",
    "                if (i<1):\n",
    "                    s_score[1] = s_score[0]\n",
    "                    s_time[1] = s_time[0]\n",
    "                s_score[i] = d\n",
    "                s_time[i] = float(loc)*t/sf\n",
    "                break\n",
    "\n",
    "\n",
    "def burst (soundfile, start_time, end_time):\n",
    "\n",
    "    if (start_time>end_time):\n",
    "        usage()\n",
    "        return(-1)\n",
    "\n",
    "    # 'sf' = sampling frequency\n",
    "    # run 'sox' subprocess to resample audio file to 16k Hz\n",
    "    # run 'wav2sd' subprocess to convert .wav to .sd\n",
    "    sf=16000\n",
    "    ret=subprocess.check_call(\"sox -q {} temp.wav rate {}\".format(soundfile,sf).split())            \n",
    "    # ret=subprocess.call(\"wav2sd temp.wav\".split())            \n",
    "    # sd=\"temp.sd\"  # is created by wav2sd\n",
    "    sd = 'temp.wav'\n",
    "\n",
    "    pol = -1\n",
    "    \n",
    "    # number of samples in the timestep (5ms)\n",
    "    t=int(step*sf)\n",
    "\n",
    "    # loop through all of the labels on the \"phone\" tier that match the set of stops\n",
    "    # remember: 'phone' is an audiolabel label object, but 'word' is a string\n",
    "    s_samp = int(start_time*sf)\n",
    "    e_samp = int(end_time*sf)\n",
    "    \n",
    "    # dstring = subprocess.check_output(\"pplain -i -r{}:{} {}\".format(s_samp,e_samp,sd).split())\n",
    "    # data = list(map(int,dstring.rstrip().split()))\n",
    "\n",
    "    _, wavdata = wavfile.read(sd)\n",
    "    data = wavdata[s_samp:e_samp+1]\n",
    "\n",
    "    # 'wave_burst' function (defined earlier) finds values associated with stop burst in waveform\n",
    "    wave_burst(t,sf,pol,data) # looks for big jumps in waveform\n",
    "    spec_burst(s_samp,e_samp,t,sf,sd) # looks for big jumps in spectra\n",
    "    \n",
    "        # candidate is a dictionary/dict that will have 0-3 entries depending on loop\n",
    "    cand = {}\n",
    "\n",
    "    # loop through the 3 values each in w_time and s_time, find the difference in time\n",
    "    # if difference is less than 4 ms, 'w' becomes a candidate 0, 1, or 2\n",
    "    for w in range(3):\n",
    "        for s in range(3):\n",
    "            if math.fabs(w_time[w] - s_time[s]) < 0.004: # indicates that the same event resulted in this burst\n",
    "                cand[w]=s\n",
    "    \n",
    "    maxb = 0 # set maxb lower (e.g. -10) if you want lower scores to still 'pass'\n",
    "    \n",
    "    loc = -1  \n",
    "    \n",
    "    for (w,s) in cand.items():  \n",
    "        # burst score - derived from lda over timit bursts\n",
    "        b = -1.814 + 0.618*math.log(w_score[w]) + 0.003*s_score[s]\n",
    "        if (b>maxb): \n",
    "            maxb = b\n",
    "            loc = w_time[w] + start_time\n",
    "        if debug:\n",
    "            print(b)\n",
    "    \n",
    "    return (loc,maxb)"
   ]
  },
  {
   "cell_type": "code",
   "execution_count": 12,
   "id": "56ca92b7",
   "metadata": {},
   "outputs": [
    {
     "ename": "FileNotFoundError",
     "evalue": "[Errno 2] No such file or directory: 'fft': 'fft'",
     "output_type": "error",
     "traceback": [
      "\u001b[0;31m---------------------------------------------------------------------------\u001b[0m",
      "\u001b[0;31mFileNotFoundError\u001b[0m                         Traceback (most recent call last)",
      "\u001b[0;32m<ipython-input-12-a7f6f4cdcc6a>\u001b[0m in \u001b[0;36m<module>\u001b[0;34m\u001b[0m\n\u001b[1;32m      1\u001b[0m \u001b[0;31m#burst('YO0010c_yoneshiro_europestory_20130424/unaligned/66.wav', 1, 2)\u001b[0m\u001b[0;34m\u001b[0m\u001b[0;34m\u001b[0m\u001b[0;34m\u001b[0m\u001b[0m\n\u001b[0;32m----> 2\u001b[0;31m \u001b[0mburst\u001b[0m\u001b[0;34m(\u001b[0m\u001b[0;34m'YO0010c_yoneshiro_europestory_20130424/unaligned/25.wav'\u001b[0m\u001b[0;34m,\u001b[0m \u001b[0;36m4.01\u001b[0m\u001b[0;34m,\u001b[0m \u001b[0;36m4.13\u001b[0m\u001b[0;34m)\u001b[0m\u001b[0;34m\u001b[0m\u001b[0;34m\u001b[0m\u001b[0m\n\u001b[0m",
      "\u001b[0;32m<ipython-input-2-a89d4ca06432>\u001b[0m in \u001b[0;36mburst\u001b[0;34m(soundfile, start_time, end_time)\u001b[0m\n\u001b[1;32m    197\u001b[0m     \u001b[0;31m# 'wave_burst' function (defined earlier) finds values associated with stop burst in waveform\u001b[0m\u001b[0;34m\u001b[0m\u001b[0;34m\u001b[0m\u001b[0;34m\u001b[0m\u001b[0m\n\u001b[1;32m    198\u001b[0m     \u001b[0mwave_burst\u001b[0m\u001b[0;34m(\u001b[0m\u001b[0mt\u001b[0m\u001b[0;34m,\u001b[0m\u001b[0msf\u001b[0m\u001b[0;34m,\u001b[0m\u001b[0mpol\u001b[0m\u001b[0;34m,\u001b[0m\u001b[0mdata\u001b[0m\u001b[0;34m)\u001b[0m \u001b[0;31m# looks for big jumps in waveform\u001b[0m\u001b[0;34m\u001b[0m\u001b[0;34m\u001b[0m\u001b[0m\n\u001b[0;32m--> 199\u001b[0;31m     \u001b[0mspec_burst\u001b[0m\u001b[0;34m(\u001b[0m\u001b[0ms_samp\u001b[0m\u001b[0;34m,\u001b[0m\u001b[0me_samp\u001b[0m\u001b[0;34m,\u001b[0m\u001b[0mt\u001b[0m\u001b[0;34m,\u001b[0m\u001b[0msf\u001b[0m\u001b[0;34m,\u001b[0m\u001b[0msd\u001b[0m\u001b[0;34m)\u001b[0m \u001b[0;31m# looks for big jumps in spectra\u001b[0m\u001b[0;34m\u001b[0m\u001b[0;34m\u001b[0m\u001b[0m\n\u001b[0m\u001b[1;32m    200\u001b[0m \u001b[0;34m\u001b[0m\u001b[0m\n\u001b[1;32m    201\u001b[0m         \u001b[0;31m# candidate is a dictionary/dict that will have 0-3 entries depending on loop\u001b[0m\u001b[0;34m\u001b[0m\u001b[0;34m\u001b[0m\u001b[0;34m\u001b[0m\u001b[0m\n",
      "\u001b[0;32m<ipython-input-2-a89d4ca06432>\u001b[0m in \u001b[0;36mspec_burst\u001b[0;34m(s, e, t, sf, sd)\u001b[0m\n\u001b[1;32m    140\u001b[0m     \u001b[0mnyquist\u001b[0m \u001b[0;34m=\u001b[0m \u001b[0msf\u001b[0m\u001b[0;34m/\u001b[0m\u001b[0;36m2\u001b[0m\u001b[0;34m\u001b[0m\u001b[0;34m\u001b[0m\u001b[0m\n\u001b[1;32m    141\u001b[0m \u001b[0;34m\u001b[0m\u001b[0m\n\u001b[0;32m--> 142\u001b[0;31m     \u001b[0mret\u001b[0m\u001b[0;34m=\u001b[0m\u001b[0msubprocess\u001b[0m\u001b[0;34m.\u001b[0m\u001b[0mcheck_call\u001b[0m\u001b[0;34m(\u001b[0m\u001b[0;34m\"fft -z -wHamming -l{} -S{} -r{}:{} {} temp1.fea\"\u001b[0m\u001b[0;34m.\u001b[0m\u001b[0mformat\u001b[0m\u001b[0;34m(\u001b[0m\u001b[0mt\u001b[0m\u001b[0;34m,\u001b[0m\u001b[0mt\u001b[0m\u001b[0;34m,\u001b[0m\u001b[0ms\u001b[0m\u001b[0;34m,\u001b[0m\u001b[0me\u001b[0m\u001b[0;34m,\u001b[0m\u001b[0msd\u001b[0m\u001b[0;34m)\u001b[0m\u001b[0;34m.\u001b[0m\u001b[0msplit\u001b[0m\u001b[0;34m(\u001b[0m\u001b[0;34m)\u001b[0m\u001b[0;34m)\u001b[0m\u001b[0;34m\u001b[0m\u001b[0;34m\u001b[0m\u001b[0m\n\u001b[0m\u001b[1;32m    143\u001b[0m     \u001b[0mret\u001b[0m\u001b[0;34m=\u001b[0m\u001b[0msubprocess\u001b[0m\u001b[0;34m.\u001b[0m\u001b[0mcheck_call\u001b[0m\u001b[0;34m(\u001b[0m\u001b[0;34m\"melspec -H300:{} -n60 temp1.fea temp2.fea\"\u001b[0m\u001b[0;34m.\u001b[0m\u001b[0mformat\u001b[0m\u001b[0;34m(\u001b[0m\u001b[0mnyquist\u001b[0m\u001b[0;34m)\u001b[0m\u001b[0;34m.\u001b[0m\u001b[0msplit\u001b[0m\u001b[0;34m(\u001b[0m\u001b[0;34m)\u001b[0m\u001b[0;34m)\u001b[0m\u001b[0;34m\u001b[0m\u001b[0;34m\u001b[0m\u001b[0m\n\u001b[1;32m    144\u001b[0m     \u001b[0mret\u001b[0m\u001b[0;34m=\u001b[0m\u001b[0msubprocess\u001b[0m\u001b[0;34m.\u001b[0m\u001b[0mcheck_call\u001b[0m\u001b[0;34m(\u001b[0m\u001b[0;34m\"nodiff -o1 -fre_spec_val temp2.fea nodiff.fea\"\u001b[0m\u001b[0;34m.\u001b[0m\u001b[0msplit\u001b[0m\u001b[0;34m(\u001b[0m\u001b[0;34m)\u001b[0m\u001b[0;34m)\u001b[0m  \u001b[0;31m# spectral change\u001b[0m\u001b[0;34m\u001b[0m\u001b[0;34m\u001b[0m\u001b[0m\n",
      "\u001b[0;32m~/anaconda3/lib/python3.7/subprocess.py\u001b[0m in \u001b[0;36mcheck_call\u001b[0;34m(*popenargs, **kwargs)\u001b[0m\n\u001b[1;32m    340\u001b[0m     \u001b[0mcheck_call\u001b[0m\u001b[0;34m(\u001b[0m\u001b[0;34m[\u001b[0m\u001b[0;34m\"ls\"\u001b[0m\u001b[0;34m,\u001b[0m \u001b[0;34m\"-l\"\u001b[0m\u001b[0;34m]\u001b[0m\u001b[0;34m)\u001b[0m\u001b[0;34m\u001b[0m\u001b[0;34m\u001b[0m\u001b[0m\n\u001b[1;32m    341\u001b[0m     \"\"\"\n\u001b[0;32m--> 342\u001b[0;31m     \u001b[0mretcode\u001b[0m \u001b[0;34m=\u001b[0m \u001b[0mcall\u001b[0m\u001b[0;34m(\u001b[0m\u001b[0;34m*\u001b[0m\u001b[0mpopenargs\u001b[0m\u001b[0;34m,\u001b[0m \u001b[0;34m**\u001b[0m\u001b[0mkwargs\u001b[0m\u001b[0;34m)\u001b[0m\u001b[0;34m\u001b[0m\u001b[0;34m\u001b[0m\u001b[0m\n\u001b[0m\u001b[1;32m    343\u001b[0m     \u001b[0;32mif\u001b[0m \u001b[0mretcode\u001b[0m\u001b[0;34m:\u001b[0m\u001b[0;34m\u001b[0m\u001b[0;34m\u001b[0m\u001b[0m\n\u001b[1;32m    344\u001b[0m         \u001b[0mcmd\u001b[0m \u001b[0;34m=\u001b[0m \u001b[0mkwargs\u001b[0m\u001b[0;34m.\u001b[0m\u001b[0mget\u001b[0m\u001b[0;34m(\u001b[0m\u001b[0;34m\"args\"\u001b[0m\u001b[0;34m)\u001b[0m\u001b[0;34m\u001b[0m\u001b[0;34m\u001b[0m\u001b[0m\n",
      "\u001b[0;32m~/anaconda3/lib/python3.7/subprocess.py\u001b[0m in \u001b[0;36mcall\u001b[0;34m(timeout, *popenargs, **kwargs)\u001b[0m\n\u001b[1;32m    321\u001b[0m     \u001b[0mretcode\u001b[0m \u001b[0;34m=\u001b[0m \u001b[0mcall\u001b[0m\u001b[0;34m(\u001b[0m\u001b[0;34m[\u001b[0m\u001b[0;34m\"ls\"\u001b[0m\u001b[0;34m,\u001b[0m \u001b[0;34m\"-l\"\u001b[0m\u001b[0;34m]\u001b[0m\u001b[0;34m)\u001b[0m\u001b[0;34m\u001b[0m\u001b[0;34m\u001b[0m\u001b[0m\n\u001b[1;32m    322\u001b[0m     \"\"\"\n\u001b[0;32m--> 323\u001b[0;31m     \u001b[0;32mwith\u001b[0m \u001b[0mPopen\u001b[0m\u001b[0;34m(\u001b[0m\u001b[0;34m*\u001b[0m\u001b[0mpopenargs\u001b[0m\u001b[0;34m,\u001b[0m \u001b[0;34m**\u001b[0m\u001b[0mkwargs\u001b[0m\u001b[0;34m)\u001b[0m \u001b[0;32mas\u001b[0m \u001b[0mp\u001b[0m\u001b[0;34m:\u001b[0m\u001b[0;34m\u001b[0m\u001b[0;34m\u001b[0m\u001b[0m\n\u001b[0m\u001b[1;32m    324\u001b[0m         \u001b[0;32mtry\u001b[0m\u001b[0;34m:\u001b[0m\u001b[0;34m\u001b[0m\u001b[0;34m\u001b[0m\u001b[0m\n\u001b[1;32m    325\u001b[0m             \u001b[0;32mreturn\u001b[0m \u001b[0mp\u001b[0m\u001b[0;34m.\u001b[0m\u001b[0mwait\u001b[0m\u001b[0;34m(\u001b[0m\u001b[0mtimeout\u001b[0m\u001b[0;34m=\u001b[0m\u001b[0mtimeout\u001b[0m\u001b[0;34m)\u001b[0m\u001b[0;34m\u001b[0m\u001b[0;34m\u001b[0m\u001b[0m\n",
      "\u001b[0;32m~/anaconda3/lib/python3.7/subprocess.py\u001b[0m in \u001b[0;36m__init__\u001b[0;34m(self, args, bufsize, executable, stdin, stdout, stderr, preexec_fn, close_fds, shell, cwd, env, universal_newlines, startupinfo, creationflags, restore_signals, start_new_session, pass_fds, encoding, errors, text)\u001b[0m\n\u001b[1;32m    773\u001b[0m                                 \u001b[0mc2pread\u001b[0m\u001b[0;34m,\u001b[0m \u001b[0mc2pwrite\u001b[0m\u001b[0;34m,\u001b[0m\u001b[0;34m\u001b[0m\u001b[0;34m\u001b[0m\u001b[0m\n\u001b[1;32m    774\u001b[0m                                 \u001b[0merrread\u001b[0m\u001b[0;34m,\u001b[0m \u001b[0merrwrite\u001b[0m\u001b[0;34m,\u001b[0m\u001b[0;34m\u001b[0m\u001b[0;34m\u001b[0m\u001b[0m\n\u001b[0;32m--> 775\u001b[0;31m                                 restore_signals, start_new_session)\n\u001b[0m\u001b[1;32m    776\u001b[0m         \u001b[0;32mexcept\u001b[0m\u001b[0;34m:\u001b[0m\u001b[0;34m\u001b[0m\u001b[0;34m\u001b[0m\u001b[0m\n\u001b[1;32m    777\u001b[0m             \u001b[0;31m# Cleanup if the child failed starting.\u001b[0m\u001b[0;34m\u001b[0m\u001b[0;34m\u001b[0m\u001b[0;34m\u001b[0m\u001b[0m\n",
      "\u001b[0;32m~/anaconda3/lib/python3.7/subprocess.py\u001b[0m in \u001b[0;36m_execute_child\u001b[0;34m(self, args, executable, preexec_fn, close_fds, pass_fds, cwd, env, startupinfo, creationflags, shell, p2cread, p2cwrite, c2pread, c2pwrite, errread, errwrite, restore_signals, start_new_session)\u001b[0m\n\u001b[1;32m   1520\u001b[0m                         \u001b[0;32mif\u001b[0m \u001b[0merrno_num\u001b[0m \u001b[0;34m==\u001b[0m \u001b[0merrno\u001b[0m\u001b[0;34m.\u001b[0m\u001b[0mENOENT\u001b[0m\u001b[0;34m:\u001b[0m\u001b[0;34m\u001b[0m\u001b[0;34m\u001b[0m\u001b[0m\n\u001b[1;32m   1521\u001b[0m                             \u001b[0merr_msg\u001b[0m \u001b[0;34m+=\u001b[0m \u001b[0;34m': '\u001b[0m \u001b[0;34m+\u001b[0m \u001b[0mrepr\u001b[0m\u001b[0;34m(\u001b[0m\u001b[0merr_filename\u001b[0m\u001b[0;34m)\u001b[0m\u001b[0;34m\u001b[0m\u001b[0;34m\u001b[0m\u001b[0m\n\u001b[0;32m-> 1522\u001b[0;31m                     \u001b[0;32mraise\u001b[0m \u001b[0mchild_exception_type\u001b[0m\u001b[0;34m(\u001b[0m\u001b[0merrno_num\u001b[0m\u001b[0;34m,\u001b[0m \u001b[0merr_msg\u001b[0m\u001b[0;34m,\u001b[0m \u001b[0merr_filename\u001b[0m\u001b[0;34m)\u001b[0m\u001b[0;34m\u001b[0m\u001b[0;34m\u001b[0m\u001b[0m\n\u001b[0m\u001b[1;32m   1523\u001b[0m                 \u001b[0;32mraise\u001b[0m \u001b[0mchild_exception_type\u001b[0m\u001b[0;34m(\u001b[0m\u001b[0merr_msg\u001b[0m\u001b[0;34m)\u001b[0m\u001b[0;34m\u001b[0m\u001b[0;34m\u001b[0m\u001b[0m\n\u001b[1;32m   1524\u001b[0m \u001b[0;34m\u001b[0m\u001b[0m\n",
      "\u001b[0;31mFileNotFoundError\u001b[0m: [Errno 2] No such file or directory: 'fft': 'fft'"
     ]
    }
   ],
   "source": [
    "#burst('YO0010c_yoneshiro_europestory_20130424/unaligned/66.wav', 1, 2)\n",
    "burst('YO0010c_yoneshiro_europestory_20130424/unaligned/25.wav', 4.01, 4.13)"
   ]
  },
  {
   "cell_type": "code",
   "execution_count": 3,
   "id": "676d68b1",
   "metadata": {},
   "outputs": [],
   "source": [
    "df = pd.read_csv('targets/target_phones_nooutliers.csv')"
   ]
  },
  {
   "cell_type": "code",
   "execution_count": 4,
   "id": "4354a509",
   "metadata": {},
   "outputs": [
    {
     "data": {
      "text/plain": [
       "Index(['Unnamed: 0', 'fname', 'onset', 'label', 'phon_start', 'phon_end',\n",
       "       'word', 'word_start', 'word_end', 'first_syll', 'sentence', 'prev_phon',\n",
       "       'prev_phon_start', 'prev_phon_end', 'next_phon', 'next_phon_start',\n",
       "       'next_phon_end', 'prev_word', 'prev_word_start', 'prev_word_end',\n",
       "       'next_word', 'next_word_start', 'next_word_end', 'first_onset',\n",
       "       'c_quality', 'geminate', 'duration', 'duration_include_sp',\n",
       "       'duration_include_sp_mean', 'duration_include_sp_sd',\n",
       "       'duration_include_sp_z'],\n",
       "      dtype='object')"
      ]
     },
     "execution_count": 4,
     "metadata": {},
     "output_type": "execute_result"
    }
   ],
   "source": [
    "df.columns"
   ]
  },
  {
   "cell_type": "code",
   "execution_count": 5,
   "id": "708bca75",
   "metadata": {},
   "outputs": [],
   "source": [
    "df['new_start'] = df.apply(lambda row: row['prev_phon_start'] if row['prev_phon'] == 'sp' else row['phon_start'], axis = 1)"
   ]
  },
  {
   "cell_type": "code",
   "execution_count": 6,
   "id": "bddc4a80",
   "metadata": {},
   "outputs": [],
   "source": [
    "df_stops = df.query('onset in [\"tt\", \"kk\", \"t\", \"k\"]')"
   ]
  },
  {
   "cell_type": "code",
   "execution_count": 9,
   "id": "4d1e2011-25df-4975-b480-2c20c8d80304",
   "metadata": {},
   "outputs": [
    {
     "data": {
      "text/plain": [
       "'YO0010c_yoneshiro_europestory_20130424/aligned/25.TextGrid'"
      ]
     },
     "execution_count": 9,
     "metadata": {},
     "output_type": "execute_result"
    }
   ],
   "source": [
    "df_stops.iloc[4].fname"
   ]
  },
  {
   "cell_type": "code",
   "execution_count": 75,
   "id": "c08f4414",
   "metadata": {},
   "outputs": [],
   "source": [
    "df_stops.to_csv('targets/stop_targets.csv', index = False)"
   ]
  },
  {
   "cell_type": "code",
   "execution_count": 63,
   "id": "11916982",
   "metadata": {},
   "outputs": [],
   "source": [
    "tg = al.LabelManager(from_file = 'YO0010c_yoneshiro_europestory_20130424/aligned/66.TextGrid', from_type = 'praat')\n",
    "snd = ps.Sound('YO0010c_yoneshiro_europestory_20130424/unaligned/66.wav')"
   ]
  },
  {
   "cell_type": "code",
   "execution_count": 88,
   "id": "da6b8d3e",
   "metadata": {},
   "outputs": [
    {
     "ename": "AttributeError",
     "evalue": "'list' object has no attribute 'format'",
     "output_type": "error",
     "traceback": [
      "\u001b[0;31m---------------------------------------------------------------------------\u001b[0m",
      "\u001b[0;31mAttributeError\u001b[0m                            Traceback (most recent call last)",
      "\u001b[0;32m<ipython-input-88-cd76893f711f>\u001b[0m in \u001b[0;36m<module>\u001b[0;34m\u001b[0m\n\u001b[0;32m----> 1\u001b[0;31m \u001b[0mburst\u001b[0m\u001b[0;34m(\u001b[0m\u001b[0;34m'YO0010c_yoneshiro_europestory_20130424/unaligned/66.wav'\u001b[0m\u001b[0;34m,\u001b[0m \u001b[0;36m1\u001b[0m\u001b[0;34m,\u001b[0m \u001b[0;36m2\u001b[0m\u001b[0;34m)\u001b[0m\u001b[0;34m\u001b[0m\u001b[0;34m\u001b[0m\u001b[0m\n\u001b[0m",
      "\u001b[0;32m<ipython-input-87-49741c2c0d7c>\u001b[0m in \u001b[0;36mburst\u001b[0;34m(soundfile, start_time, end_time)\u001b[0m\n\u001b[1;32m      9\u001b[0m     \u001b[0;31m# run 'wav2sd' subprocess to convert .wav to .sd\u001b[0m\u001b[0;34m\u001b[0m\u001b[0;34m\u001b[0m\u001b[0;34m\u001b[0m\u001b[0m\n\u001b[1;32m     10\u001b[0m     \u001b[0msf\u001b[0m\u001b[0;34m=\u001b[0m\u001b[0;36m16000\u001b[0m\u001b[0;34m\u001b[0m\u001b[0;34m\u001b[0m\u001b[0m\n\u001b[0;32m---> 11\u001b[0;31m     \u001b[0mret\u001b[0m\u001b[0;34m=\u001b[0m\u001b[0msubprocess\u001b[0m\u001b[0;34m.\u001b[0m\u001b[0mrun\u001b[0m\u001b[0;34m(\u001b[0m\u001b[0;34m[\u001b[0m\u001b[0;34m'sox'\u001b[0m\u001b[0;34m,\u001b[0m \u001b[0;34m'-q'\u001b[0m\u001b[0;34m,\u001b[0m \u001b[0msoundfile\u001b[0m\u001b[0;34m,\u001b[0m \u001b[0;34m'temp.wav'\u001b[0m\u001b[0;34m,\u001b[0m \u001b[0;34m'rate'\u001b[0m\u001b[0;34m,\u001b[0m \u001b[0msf\u001b[0m\u001b[0;34m]\u001b[0m\u001b[0;34m.\u001b[0m\u001b[0mformat\u001b[0m\u001b[0;34m(\u001b[0m\u001b[0msoundfile\u001b[0m\u001b[0;34m,\u001b[0m\u001b[0msf\u001b[0m\u001b[0;34m)\u001b[0m\u001b[0;34m.\u001b[0m\u001b[0msplit\u001b[0m\u001b[0;34m(\u001b[0m\u001b[0;34m)\u001b[0m\u001b[0;34m)\u001b[0m\u001b[0;34m\u001b[0m\u001b[0;34m\u001b[0m\u001b[0m\n\u001b[0m\u001b[1;32m     12\u001b[0m     \u001b[0mret\u001b[0m\u001b[0;34m=\u001b[0m\u001b[0msubprocess\u001b[0m\u001b[0;34m.\u001b[0m\u001b[0mrun\u001b[0m\u001b[0;34m(\u001b[0m\u001b[0;34m[\u001b[0m\u001b[0;34m'wav2sd.sh'\u001b[0m\u001b[0;34m,\u001b[0m \u001b[0;34m'temp.wav'\u001b[0m\u001b[0;34m]\u001b[0m\u001b[0;34m.\u001b[0m\u001b[0msplit\u001b[0m\u001b[0;34m(\u001b[0m\u001b[0;34m)\u001b[0m\u001b[0;34m)\u001b[0m\u001b[0;34m\u001b[0m\u001b[0;34m\u001b[0m\u001b[0m\n\u001b[1;32m     13\u001b[0m     \u001b[0msd\u001b[0m\u001b[0;34m=\u001b[0m\u001b[0;34m\"temp.sd\"\u001b[0m  \u001b[0;31m# is created by wav2sd\u001b[0m\u001b[0;34m\u001b[0m\u001b[0;34m\u001b[0m\u001b[0m\n",
      "\u001b[0;31mAttributeError\u001b[0m: 'list' object has no attribute 'format'"
     ]
    }
   ],
   "source": []
  },
  {
   "cell_type": "code",
   "execution_count": 49,
   "id": "5125238e",
   "metadata": {},
   "outputs": [],
   "source": [
    "# arguments\n",
    "#   TOKEN: a row of data from a dataframe containing, minimally, a starting (t1) and ending time (t2)\n",
    "#   PSND: a Parselmouth Sound object\n",
    "# returns\n",
    "#   a tuple containing the center of gravity, SD, skewness, and kurtosis of the frequency distribution of PSND starting from 50ms\n",
    "#     token.t2 and ending at token.t2\n",
    "def get_freq_dist(token, snd):\n",
    "\n",
    "    # cut out a part of PSND and turn it into a Spectrum object\n",
    "    s = snd.extract_part(token['phon_end']-0.05, token['phon_end']).to_spectrum()  # 50ms window\n",
    "    \n",
    "    # generate values and return\n",
    "    return [s.get_center_of_gravity(), s.get_standard_deviation(), s.get_skewness(), s.get_kurtosis()]"
   ]
  },
  {
   "cell_type": "code",
   "execution_count": 50,
   "id": "7cdf0fc2",
   "metadata": {},
   "outputs": [],
   "source": [
    "# arguments\n",
    "#   TOKEN: a row of data from a dataframe containing, minimally, a starting (t1) and ending time (t2)\n",
    "#   PSND: a Parselmouth Sound object\n",
    "# returns\n",
    "#   a tuple containing the intensity of the burst (from 50ms before end of token) and the following vowel (until 50ms \n",
    "#     after the end of token)\n",
    "def get_intensity_values(token, psnd):\n",
    "\n",
    "    # cut out a part of PSND and find its intensity\n",
    "    db_d = psnd.extract_part(token['phon_end']-0.05, token['phon_end']).get_intensity()  # 50ms window\n",
    "    db_v = psnd.extract_part(token['phon_end'], token['phon_end']+0.05).get_intensity()  # do the same for the following 50ms\n",
    "    \n",
    "    # return values\n",
    "    return [db_d, db_v]"
   ]
  },
  {
   "cell_type": "code",
   "execution_count": 51,
   "id": "c3485c87",
   "metadata": {},
   "outputs": [],
   "source": [
    "# arguments\n",
    "#   PSND: a Parselmouth Sound object\n",
    "#   TG: a TextGrid object containing the tiers 'words' and 'phones'\n",
    "# returns\n",
    "#   a dataframe version of the TextGrid's 'words' tier with additional measurements: center of gravity, SD, skewness, \n",
    "#     and kurtosis of the frequency distribution of PSND starting from 50ms\n",
    "def make_burst_df(psnd, tg):\n",
    "\n",
    "    # turn the TG into a data frame.  as_df returns a dataframes for each tier, so we'll take the first one, the phone tier \n",
    "    df = tg.as_df()[0]\n",
    "\n",
    "    df['word'] = df.center.apply(lambda x: tg.labels_at(x).word.text)  # populate the word tier\n",
    "#    df['word_onset'] = df.t1.apply(lambda x: tg.labels_at(x).word.t1 == x)  # determine if row's phone is the onset of the word\n",
    "#    df = df[(df.text==phon) | (df.text=='d')) & (df.word_onset)]  # restrict the dataframe to onset /d/s\n",
    "\n",
    "    df['burstvalues'] = df.apply(get_freq_dist, args=([psnd]), axis=1)  # get and store the burst COG, SD, etc\n",
    "    # save each burst value in its own column\n",
    "    df['cog'] = df.burstvalues.apply(lambda x: x[0])\n",
    "    df['sd'] = df.burstvalues.apply(lambda x: x[1])\n",
    "    df['skew'] = df.burstvalues.apply(lambda x: x[2])\n",
    "    df['kurtosis'] = df.burstvalues.apply(lambda x: x[3])\n",
    "    \n",
    "    df['dbvalues'] = df.apply(get_intensity_values, args=([psnd]), axis=1)  # get and store the intensity values\n",
    "    df['db_d'] = df.dbvalues.apply(lambda x: x[0])\n",
    "    df['db_v'] = df.dbvalues.apply(lambda x: x[1])\n",
    "    \n",
    "    return df[['word','t1','t2','cog','sd','skew','kurtosis','db_d','db_v']]  # return the dataframe, but only these columns"
   ]
  },
  {
   "cell_type": "code",
   "execution_count": 70,
   "id": "0e9da2ef",
   "metadata": {},
   "outputs": [
    {
     "data": {
      "text/plain": [
       "[4912.652499751531, 2233.992150554723, 0.4442028376739662, 1.9791367751254016]"
      ]
     },
     "execution_count": 70,
     "metadata": {},
     "output_type": "execute_result"
    }
   ],
   "source": [
    "get_freq_dist(token = df_stops.loc[0], snd = snd)"
   ]
  },
  {
   "cell_type": "code",
   "execution_count": 61,
   "id": "7a4ab11a",
   "metadata": {
    "collapsed": true,
    "jupyter": {
     "outputs_hidden": true
    },
    "tags": []
   },
   "outputs": [
    {
     "data": {
      "text/plain": [
       "[      t1     t2         text  duration  center\n",
       " 0   0.00  0.090                  0.090  0.0450\n",
       " 1   0.09  0.920      cigaija     0.830  0.5050\n",
       " 2   0.92  0.990                  0.070  0.9550\n",
       " 3   0.99  1.320         kija     0.330  1.1550\n",
       " 4   1.32  1.950      kirunga     0.630  1.6350\n",
       " 5   1.95  2.750                  0.800  2.3500\n",
       " 6   2.75  3.140     qjappari     0.390  2.9450\n",
       " 7   3.14  3.310          unu     0.170  3.2250\n",
       " 8   3.31  4.060         munu     0.750  3.6850\n",
       " 9   4.06  4.140                  0.080  4.1000\n",
       " 10  4.14  4.710     qbakudan     0.570  4.4250\n",
       " 11  4.71  5.630  utusutukajo     0.920  5.1700\n",
       " 12  5.63  6.245                  0.615  5.9375,\n",
       "       t1     t2 text  duration  center\n",
       " 0   0.00  0.090  sil     0.090  0.0450\n",
       " 1   0.09  0.170   CH     0.080  0.1300\n",
       " 2   0.17  0.260  IY1     0.090  0.2150\n",
       " 3   0.26  0.320    G     0.060  0.2900\n",
       " 4   0.32  0.390  AA1     0.070  0.3550\n",
       " 5   0.39  0.490  IY1     0.100  0.4400\n",
       " 6   0.49  0.580    Y     0.090  0.5350\n",
       " 7   0.58  0.920  AA1     0.340  0.7500\n",
       " 8   0.92  0.990   sp     0.070  0.9550\n",
       " 9   0.99  1.140    K     0.150  1.0650\n",
       " 10  1.14  1.180  IY1     0.040  1.1600\n",
       " 11  1.18  1.210    Y     0.030  1.1950\n",
       " 12  1.21  1.320  AA1     0.110  1.2650\n",
       " 13  1.32  1.470    K     0.150  1.3950\n",
       " 14  1.47  1.500  IY1     0.030  1.4850\n",
       " 15  1.50  1.560    R     0.060  1.5300\n",
       " 16  1.56  1.620  UW1     0.060  1.5900\n",
       " 17  1.62  1.730   NG     0.110  1.6750\n",
       " 18  1.73  1.950  AA1     0.220  1.8400\n",
       " 19  1.95  2.750   sp     0.800  2.3500\n",
       " 20  2.75  2.800    Y     0.050  2.7750\n",
       " 21  2.80  2.830  AA1     0.030  2.8150\n",
       " 22  2.83  2.860    P     0.030  2.8450\n",
       " 23  2.86  2.960    P     0.100  2.9100\n",
       " 24  2.96  2.990  AA1     0.030  2.9750\n",
       " 25  2.99  3.060    R     0.070  3.0250\n",
       " 26  3.06  3.140  IY1     0.080  3.1000\n",
       " 27  3.14  3.230  UW1     0.090  3.1850\n",
       " 28  3.23  3.270    N     0.040  3.2500\n",
       " 29  3.27  3.310  UW1     0.040  3.2900\n",
       " 30  3.31  3.380    M     0.070  3.3450\n",
       " 31  3.38  3.500  UW1     0.120  3.4400\n",
       " 32  3.50  4.000    N     0.500  3.7500\n",
       " 33  4.00  4.060  UW1     0.060  4.0300\n",
       " 34  4.06  4.140   sp     0.080  4.1000\n",
       " 35  4.14  4.220    B     0.080  4.1800\n",
       " 36  4.22  4.330  AA1     0.110  4.2750\n",
       " 37  4.33  4.440    K     0.110  4.3850\n",
       " 38  4.44  4.490  UW1     0.050  4.4650\n",
       " 39  4.49  4.560    D     0.070  4.5250\n",
       " 40  4.56  4.660  AA1     0.100  4.6100\n",
       " 41  4.66  4.710    N     0.050  4.6850\n",
       " 42  4.71  4.800  UW1     0.090  4.7550\n",
       " 43  4.80  4.870    T     0.070  4.8350\n",
       " 44  4.87  4.940  UW1     0.070  4.9050\n",
       " 45  4.94  5.100    S     0.160  5.0200\n",
       " 46  5.10  5.130  UW1     0.030  5.1150\n",
       " 47  5.13  5.190    T     0.060  5.1600\n",
       " 48  5.19  5.250  UW1     0.060  5.2200\n",
       " 49  5.25  5.350    K     0.100  5.3000\n",
       " 50  5.35  5.390  AA1     0.040  5.3700\n",
       " 51  5.39  5.570    Y     0.180  5.4800\n",
       " 52  5.57  5.630  OW1     0.060  5.6000\n",
       " 53  5.63  6.230   sp     0.600  5.9300\n",
       " 54  6.23  6.245          0.015  6.2375]"
      ]
     },
     "execution_count": 61,
     "metadata": {},
     "output_type": "execute_result"
    }
   ],
   "source": [
    "l = al.LabelManager(from_file=tg, from_type='praat')\n",
    "\n",
    "l.as_df(token = )"
   ]
  },
  {
   "cell_type": "code",
   "execution_count": 60,
   "id": "fddf5be8",
   "metadata": {},
   "outputs": [
    {
     "ename": "AttributeError",
     "evalue": "'str' object has no attribute 'labels_at'",
     "output_type": "error",
     "traceback": [
      "\u001b[0;31m---------------------------------------------------------------------------\u001b[0m",
      "\u001b[0;31mAttributeError\u001b[0m                            Traceback (most recent call last)",
      "\u001b[0;32m<ipython-input-60-2ab126691ce3>\u001b[0m in \u001b[0;36m<module>\u001b[0;34m\u001b[0m\n\u001b[0;32m----> 1\u001b[0;31m \u001b[0mtg\u001b[0m\u001b[0;34m.\u001b[0m\u001b[0mlabels_at\u001b[0m\u001b[0;34m(\u001b[0m\u001b[0;36m0.0450\u001b[0m\u001b[0;34m)\u001b[0m\u001b[0;34m\u001b[0m\u001b[0;34m\u001b[0m\u001b[0m\n\u001b[0m",
      "\u001b[0;31mAttributeError\u001b[0m: 'str' object has no attribute 'labels_at'"
     ]
    }
   ],
   "source": [
    "tg.labels_at(0.0450)"
   ]
  },
  {
   "cell_type": "code",
   "execution_count": 57,
   "id": "3dc0a147",
   "metadata": {
    "collapsed": true,
    "jupyter": {
     "outputs_hidden": true
    },
    "tags": []
   },
   "outputs": [
    {
     "ename": "ValueError",
     "evalue": "Type names and field names must be valid identifiers: '-'",
     "output_type": "error",
     "traceback": [
      "\u001b[0;31m---------------------------------------------------------------------------\u001b[0m",
      "\u001b[0;31mValueError\u001b[0m                                Traceback (most recent call last)",
      "\u001b[0;32m<ipython-input-57-68f35919430a>\u001b[0m in \u001b[0;36m<module>\u001b[0;34m\u001b[0m\n\u001b[1;32m      1\u001b[0m \u001b[0;32mimport\u001b[0m \u001b[0maudiolabel\u001b[0m \u001b[0;32mas\u001b[0m \u001b[0mal\u001b[0m\u001b[0;34m\u001b[0m\u001b[0;34m\u001b[0m\u001b[0m\n\u001b[1;32m      2\u001b[0m \u001b[0;34m\u001b[0m\u001b[0m\n\u001b[0;32m----> 3\u001b[0;31m \u001b[0mmake_burst_df\u001b[0m\u001b[0;34m(\u001b[0m\u001b[0mpsnd\u001b[0m \u001b[0;34m=\u001b[0m \u001b[0msnd\u001b[0m\u001b[0;34m,\u001b[0m \u001b[0mtg\u001b[0m \u001b[0;34m=\u001b[0m \u001b[0mal\u001b[0m\u001b[0;34m.\u001b[0m\u001b[0mLabelManager\u001b[0m\u001b[0;34m(\u001b[0m\u001b[0mfrom_file\u001b[0m\u001b[0;34m=\u001b[0m\u001b[0mtg\u001b[0m\u001b[0;34m,\u001b[0m \u001b[0mfrom_type\u001b[0m\u001b[0;34m=\u001b[0m\u001b[0;34m'praat'\u001b[0m\u001b[0;34m)\u001b[0m\u001b[0;34m)\u001b[0m  \u001b[0;31m# make a dataframe from the English words\u001b[0m\u001b[0;34m\u001b[0m\u001b[0;34m\u001b[0m\u001b[0m\n\u001b[0m",
      "\u001b[0;32m<ipython-input-51-819bc8f5d8e1>\u001b[0m in \u001b[0;36mmake_burst_df\u001b[0;34m(psnd, tg)\u001b[0m\n\u001b[1;32m     10\u001b[0m     \u001b[0mdf\u001b[0m \u001b[0;34m=\u001b[0m \u001b[0mtg\u001b[0m\u001b[0;34m.\u001b[0m\u001b[0mas_df\u001b[0m\u001b[0;34m(\u001b[0m\u001b[0;34m)\u001b[0m\u001b[0;34m[\u001b[0m\u001b[0;36m0\u001b[0m\u001b[0;34m]\u001b[0m\u001b[0;34m\u001b[0m\u001b[0;34m\u001b[0m\u001b[0m\n\u001b[1;32m     11\u001b[0m \u001b[0;34m\u001b[0m\u001b[0m\n\u001b[0;32m---> 12\u001b[0;31m     \u001b[0mdf\u001b[0m\u001b[0;34m[\u001b[0m\u001b[0;34m'word'\u001b[0m\u001b[0;34m]\u001b[0m \u001b[0;34m=\u001b[0m \u001b[0mdf\u001b[0m\u001b[0;34m.\u001b[0m\u001b[0mcenter\u001b[0m\u001b[0;34m.\u001b[0m\u001b[0mapply\u001b[0m\u001b[0;34m(\u001b[0m\u001b[0;32mlambda\u001b[0m \u001b[0mx\u001b[0m\u001b[0;34m:\u001b[0m \u001b[0mtg\u001b[0m\u001b[0;34m.\u001b[0m\u001b[0mlabels_at\u001b[0m\u001b[0;34m(\u001b[0m\u001b[0mx\u001b[0m\u001b[0;34m)\u001b[0m\u001b[0;34m.\u001b[0m\u001b[0mword\u001b[0m\u001b[0;34m.\u001b[0m\u001b[0mtext\u001b[0m\u001b[0;34m)\u001b[0m  \u001b[0;31m# populate the word tier\u001b[0m\u001b[0;34m\u001b[0m\u001b[0;34m\u001b[0m\u001b[0m\n\u001b[0m\u001b[1;32m     13\u001b[0m \u001b[0;31m#    df['word_onset'] = df.t1.apply(lambda x: tg.labels_at(x).word.t1 == x)  # determine if row's phone is the onset of the word\u001b[0m\u001b[0;34m\u001b[0m\u001b[0;34m\u001b[0m\u001b[0;34m\u001b[0m\u001b[0m\n\u001b[1;32m     14\u001b[0m \u001b[0;31m#    df = df[(df.text==phon) | (df.text=='d')) & (df.word_onset)]  # restrict the dataframe to onset /d/s\u001b[0m\u001b[0;34m\u001b[0m\u001b[0;34m\u001b[0m\u001b[0;34m\u001b[0m\u001b[0m\n",
      "\u001b[0;32m~/anaconda3/lib/python3.7/site-packages/pandas/core/series.py\u001b[0m in \u001b[0;36mapply\u001b[0;34m(self, func, convert_dtype, args, **kwds)\u001b[0m\n\u001b[1;32m   4136\u001b[0m             \u001b[0;32melse\u001b[0m\u001b[0;34m:\u001b[0m\u001b[0;34m\u001b[0m\u001b[0;34m\u001b[0m\u001b[0m\n\u001b[1;32m   4137\u001b[0m                 \u001b[0mvalues\u001b[0m \u001b[0;34m=\u001b[0m \u001b[0mself\u001b[0m\u001b[0;34m.\u001b[0m\u001b[0mastype\u001b[0m\u001b[0;34m(\u001b[0m\u001b[0mobject\u001b[0m\u001b[0;34m)\u001b[0m\u001b[0;34m.\u001b[0m\u001b[0m_values\u001b[0m\u001b[0;34m\u001b[0m\u001b[0;34m\u001b[0m\u001b[0m\n\u001b[0;32m-> 4138\u001b[0;31m                 \u001b[0mmapped\u001b[0m \u001b[0;34m=\u001b[0m \u001b[0mlib\u001b[0m\u001b[0;34m.\u001b[0m\u001b[0mmap_infer\u001b[0m\u001b[0;34m(\u001b[0m\u001b[0mvalues\u001b[0m\u001b[0;34m,\u001b[0m \u001b[0mf\u001b[0m\u001b[0;34m,\u001b[0m \u001b[0mconvert\u001b[0m\u001b[0;34m=\u001b[0m\u001b[0mconvert_dtype\u001b[0m\u001b[0;34m)\u001b[0m\u001b[0;34m\u001b[0m\u001b[0;34m\u001b[0m\u001b[0m\n\u001b[0m\u001b[1;32m   4139\u001b[0m \u001b[0;34m\u001b[0m\u001b[0m\n\u001b[1;32m   4140\u001b[0m         \u001b[0;32mif\u001b[0m \u001b[0mlen\u001b[0m\u001b[0;34m(\u001b[0m\u001b[0mmapped\u001b[0m\u001b[0;34m)\u001b[0m \u001b[0;32mand\u001b[0m \u001b[0misinstance\u001b[0m\u001b[0;34m(\u001b[0m\u001b[0mmapped\u001b[0m\u001b[0;34m[\u001b[0m\u001b[0;36m0\u001b[0m\u001b[0;34m]\u001b[0m\u001b[0;34m,\u001b[0m \u001b[0mSeries\u001b[0m\u001b[0;34m)\u001b[0m\u001b[0;34m:\u001b[0m\u001b[0;34m\u001b[0m\u001b[0;34m\u001b[0m\u001b[0m\n",
      "\u001b[0;32mpandas/_libs/lib.pyx\u001b[0m in \u001b[0;36mpandas._libs.lib.map_infer\u001b[0;34m()\u001b[0m\n",
      "\u001b[0;32m<ipython-input-51-819bc8f5d8e1>\u001b[0m in \u001b[0;36m<lambda>\u001b[0;34m(x)\u001b[0m\n\u001b[1;32m     10\u001b[0m     \u001b[0mdf\u001b[0m \u001b[0;34m=\u001b[0m \u001b[0mtg\u001b[0m\u001b[0;34m.\u001b[0m\u001b[0mas_df\u001b[0m\u001b[0;34m(\u001b[0m\u001b[0;34m)\u001b[0m\u001b[0;34m[\u001b[0m\u001b[0;36m0\u001b[0m\u001b[0;34m]\u001b[0m\u001b[0;34m\u001b[0m\u001b[0;34m\u001b[0m\u001b[0m\n\u001b[1;32m     11\u001b[0m \u001b[0;34m\u001b[0m\u001b[0m\n\u001b[0;32m---> 12\u001b[0;31m     \u001b[0mdf\u001b[0m\u001b[0;34m[\u001b[0m\u001b[0;34m'word'\u001b[0m\u001b[0;34m]\u001b[0m \u001b[0;34m=\u001b[0m \u001b[0mdf\u001b[0m\u001b[0;34m.\u001b[0m\u001b[0mcenter\u001b[0m\u001b[0;34m.\u001b[0m\u001b[0mapply\u001b[0m\u001b[0;34m(\u001b[0m\u001b[0;32mlambda\u001b[0m \u001b[0mx\u001b[0m\u001b[0;34m:\u001b[0m \u001b[0mtg\u001b[0m\u001b[0;34m.\u001b[0m\u001b[0mlabels_at\u001b[0m\u001b[0;34m(\u001b[0m\u001b[0mx\u001b[0m\u001b[0;34m)\u001b[0m\u001b[0;34m.\u001b[0m\u001b[0mword\u001b[0m\u001b[0;34m.\u001b[0m\u001b[0mtext\u001b[0m\u001b[0;34m)\u001b[0m  \u001b[0;31m# populate the word tier\u001b[0m\u001b[0;34m\u001b[0m\u001b[0;34m\u001b[0m\u001b[0m\n\u001b[0m\u001b[1;32m     13\u001b[0m \u001b[0;31m#    df['word_onset'] = df.t1.apply(lambda x: tg.labels_at(x).word.t1 == x)  # determine if row's phone is the onset of the word\u001b[0m\u001b[0;34m\u001b[0m\u001b[0;34m\u001b[0m\u001b[0;34m\u001b[0m\u001b[0m\n\u001b[1;32m     14\u001b[0m \u001b[0;31m#    df = df[(df.text==phon) | (df.text=='d')) & (df.word_onset)]  # restrict the dataframe to onset /d/s\u001b[0m\u001b[0;34m\u001b[0m\u001b[0;34m\u001b[0m\u001b[0;34m\u001b[0m\u001b[0m\n",
      "\u001b[0;32m~/anaconda3/lib/python3.7/site-packages/audiolabel.py\u001b[0m in \u001b[0;36mlabels_at\u001b[0;34m(self, time, method)\u001b[0m\n\u001b[1;32m    939\u001b[0m                     \u001b[0mseen\u001b[0m\u001b[0;34m.\u001b[0m\u001b[0mappend\u001b[0m\u001b[0;34m(\u001b[0m\u001b[0mname\u001b[0m\u001b[0;34m)\u001b[0m\u001b[0;34m\u001b[0m\u001b[0;34m\u001b[0m\u001b[0m\n\u001b[1;32m    940\u001b[0m \u001b[0;31m#            if not isinstance(labels, tuple):\u001b[0m\u001b[0;34m\u001b[0m\u001b[0;34m\u001b[0m\u001b[0;34m\u001b[0m\u001b[0m\n\u001b[0;32m--> 941\u001b[0;31m             \u001b[0mRet\u001b[0m \u001b[0;34m=\u001b[0m \u001b[0mcollections\u001b[0m\u001b[0;34m.\u001b[0m\u001b[0mnamedtuple\u001b[0m\u001b[0;34m(\u001b[0m\u001b[0;34m'Ret'\u001b[0m\u001b[0;34m,\u001b[0m \u001b[0;34m' '\u001b[0m\u001b[0;34m.\u001b[0m\u001b[0mjoin\u001b[0m\u001b[0;34m(\u001b[0m\u001b[0mnames\u001b[0m\u001b[0;34m)\u001b[0m\u001b[0;34m)\u001b[0m\u001b[0;34m\u001b[0m\u001b[0;34m\u001b[0m\u001b[0m\n\u001b[0m\u001b[1;32m    942\u001b[0m             \u001b[0mlabels\u001b[0m \u001b[0;34m=\u001b[0m \u001b[0mRet\u001b[0m\u001b[0;34m(\u001b[0m\u001b[0;34m*\u001b[0m\u001b[0mlabels\u001b[0m\u001b[0;34m)\u001b[0m\u001b[0;34m\u001b[0m\u001b[0;34m\u001b[0m\u001b[0m\n\u001b[1;32m    943\u001b[0m         \u001b[0;32mreturn\u001b[0m \u001b[0mlabels\u001b[0m\u001b[0;34m\u001b[0m\u001b[0;34m\u001b[0m\u001b[0m\n",
      "\u001b[0;32m~/anaconda3/lib/python3.7/collections/__init__.py\u001b[0m in \u001b[0;36mnamedtuple\u001b[0;34m(typename, field_names, rename, defaults, module)\u001b[0m\n\u001b[1;32m    359\u001b[0m             \u001b[0;32mraise\u001b[0m \u001b[0mTypeError\u001b[0m\u001b[0;34m(\u001b[0m\u001b[0;34m'Type names and field names must be strings'\u001b[0m\u001b[0;34m)\u001b[0m\u001b[0;34m\u001b[0m\u001b[0;34m\u001b[0m\u001b[0m\n\u001b[1;32m    360\u001b[0m         \u001b[0;32mif\u001b[0m \u001b[0;32mnot\u001b[0m \u001b[0mname\u001b[0m\u001b[0;34m.\u001b[0m\u001b[0misidentifier\u001b[0m\u001b[0;34m(\u001b[0m\u001b[0;34m)\u001b[0m\u001b[0;34m:\u001b[0m\u001b[0;34m\u001b[0m\u001b[0;34m\u001b[0m\u001b[0m\n\u001b[0;32m--> 361\u001b[0;31m             raise ValueError('Type names and field names must be valid '\n\u001b[0m\u001b[1;32m    362\u001b[0m                              f'identifiers: {name!r}')\n\u001b[1;32m    363\u001b[0m         \u001b[0;32mif\u001b[0m \u001b[0m_iskeyword\u001b[0m\u001b[0;34m(\u001b[0m\u001b[0mname\u001b[0m\u001b[0;34m)\u001b[0m\u001b[0;34m:\u001b[0m\u001b[0;34m\u001b[0m\u001b[0;34m\u001b[0m\u001b[0m\n",
      "\u001b[0;31mValueError\u001b[0m: Type names and field names must be valid identifiers: '-'"
     ]
    }
   ],
   "source": [
    "import audiolabel as al\n",
    "\n",
    "make_burst_df(psnd = snd, tg = al.LabelManager(from_file=tg, from_type='praat'))  # make a dataframe from the English words"
   ]
  },
  {
   "cell_type": "code",
   "execution_count": 15,
   "id": "a6c7cc14",
   "metadata": {
    "collapsed": true,
    "jupyter": {
     "outputs_hidden": true
    },
    "tags": []
   },
   "outputs": [
    {
     "ename": "CalledProcessError",
     "evalue": "Command '['pplain', '-fre_spec_val_d1', 'nodiff.fea']' returned non-zero exit status 1.",
     "output_type": "error",
     "traceback": [
      "\u001b[0;31m---------------------------------------------------------------------------\u001b[0m",
      "\u001b[0;31mCalledProcessError\u001b[0m                        Traceback (most recent call last)",
      "\u001b[0;32m<ipython-input-15-c4af959eafc9>\u001b[0m in \u001b[0;36m<module>\u001b[0;34m\u001b[0m\n\u001b[0;32m----> 1\u001b[0;31m \u001b[0mdf\u001b[0m\u001b[0;34m.\u001b[0m\u001b[0mapply\u001b[0m\u001b[0;34m(\u001b[0m\u001b[0;32mlambda\u001b[0m \u001b[0mrow\u001b[0m\u001b[0;34m:\u001b[0m \u001b[0mburst\u001b[0m\u001b[0;34m(\u001b[0m\u001b[0mrow\u001b[0m\u001b[0;34m[\u001b[0m\u001b[0;34m'fname'\u001b[0m\u001b[0;34m]\u001b[0m\u001b[0;34m.\u001b[0m\u001b[0mreplace\u001b[0m\u001b[0;34m(\u001b[0m\u001b[0;34m'.TextGrid'\u001b[0m\u001b[0;34m,\u001b[0m \u001b[0;34m'.wav'\u001b[0m\u001b[0;34m)\u001b[0m\u001b[0;34m.\u001b[0m\u001b[0mreplace\u001b[0m\u001b[0;34m(\u001b[0m\u001b[0;34m'aligned'\u001b[0m\u001b[0;34m,\u001b[0m\u001b[0;34m'unaligned'\u001b[0m\u001b[0;34m)\u001b[0m\u001b[0;34m,\u001b[0m \u001b[0mrow\u001b[0m\u001b[0;34m[\u001b[0m\u001b[0;34m'new_start'\u001b[0m\u001b[0;34m]\u001b[0m\u001b[0;34m*\u001b[0m\u001b[0;36m1000\u001b[0m\u001b[0;34m,\u001b[0m \u001b[0mrow\u001b[0m\u001b[0;34m[\u001b[0m\u001b[0;34m'phon_end'\u001b[0m\u001b[0;34m]\u001b[0m\u001b[0;34m*\u001b[0m\u001b[0;36m1000\u001b[0m\u001b[0;34m)\u001b[0m\u001b[0;34m,\u001b[0m \u001b[0maxis\u001b[0m \u001b[0;34m=\u001b[0m \u001b[0;36m1\u001b[0m\u001b[0;34m)\u001b[0m\u001b[0;34m\u001b[0m\u001b[0;34m\u001b[0m\u001b[0m\n\u001b[0m\u001b[1;32m      2\u001b[0m \u001b[0;31m# detect burst -  return location in time and strength of burst\u001b[0m\u001b[0;34m\u001b[0m\u001b[0;34m\u001b[0m\u001b[0;34m\u001b[0m\u001b[0m\n\u001b[1;32m      3\u001b[0m \u001b[0;31m#(b_time,b_strength) = burst(wav,phone.t1, phone.t2)\u001b[0m\u001b[0;34m\u001b[0m\u001b[0;34m\u001b[0m\u001b[0;34m\u001b[0m\u001b[0m\n",
      "\u001b[0;32m~/miniconda3/lib/python3.7/site-packages/pandas/core/frame.py\u001b[0m in \u001b[0;36mapply\u001b[0;34m(self, func, axis, broadcast, raw, reduce, result_type, args, **kwds)\u001b[0m\n\u001b[1;32m   6012\u001b[0m                          \u001b[0margs\u001b[0m\u001b[0;34m=\u001b[0m\u001b[0margs\u001b[0m\u001b[0;34m,\u001b[0m\u001b[0;34m\u001b[0m\u001b[0;34m\u001b[0m\u001b[0m\n\u001b[1;32m   6013\u001b[0m                          kwds=kwds)\n\u001b[0;32m-> 6014\u001b[0;31m         \u001b[0;32mreturn\u001b[0m \u001b[0mop\u001b[0m\u001b[0;34m.\u001b[0m\u001b[0mget_result\u001b[0m\u001b[0;34m(\u001b[0m\u001b[0;34m)\u001b[0m\u001b[0;34m\u001b[0m\u001b[0;34m\u001b[0m\u001b[0m\n\u001b[0m\u001b[1;32m   6015\u001b[0m \u001b[0;34m\u001b[0m\u001b[0m\n\u001b[1;32m   6016\u001b[0m     \u001b[0;32mdef\u001b[0m \u001b[0mapplymap\u001b[0m\u001b[0;34m(\u001b[0m\u001b[0mself\u001b[0m\u001b[0;34m,\u001b[0m \u001b[0mfunc\u001b[0m\u001b[0;34m)\u001b[0m\u001b[0;34m:\u001b[0m\u001b[0;34m\u001b[0m\u001b[0;34m\u001b[0m\u001b[0m\n",
      "\u001b[0;32m~/miniconda3/lib/python3.7/site-packages/pandas/core/apply.py\u001b[0m in \u001b[0;36mget_result\u001b[0;34m(self)\u001b[0m\n\u001b[1;32m    140\u001b[0m             \u001b[0;32mreturn\u001b[0m \u001b[0mself\u001b[0m\u001b[0;34m.\u001b[0m\u001b[0mapply_raw\u001b[0m\u001b[0;34m(\u001b[0m\u001b[0;34m)\u001b[0m\u001b[0;34m\u001b[0m\u001b[0;34m\u001b[0m\u001b[0m\n\u001b[1;32m    141\u001b[0m \u001b[0;34m\u001b[0m\u001b[0m\n\u001b[0;32m--> 142\u001b[0;31m         \u001b[0;32mreturn\u001b[0m \u001b[0mself\u001b[0m\u001b[0;34m.\u001b[0m\u001b[0mapply_standard\u001b[0m\u001b[0;34m(\u001b[0m\u001b[0;34m)\u001b[0m\u001b[0;34m\u001b[0m\u001b[0;34m\u001b[0m\u001b[0m\n\u001b[0m\u001b[1;32m    143\u001b[0m \u001b[0;34m\u001b[0m\u001b[0m\n\u001b[1;32m    144\u001b[0m     \u001b[0;32mdef\u001b[0m \u001b[0mapply_empty_result\u001b[0m\u001b[0;34m(\u001b[0m\u001b[0mself\u001b[0m\u001b[0;34m)\u001b[0m\u001b[0;34m:\u001b[0m\u001b[0;34m\u001b[0m\u001b[0;34m\u001b[0m\u001b[0m\n",
      "\u001b[0;32m~/miniconda3/lib/python3.7/site-packages/pandas/core/apply.py\u001b[0m in \u001b[0;36mapply_standard\u001b[0;34m(self)\u001b[0m\n\u001b[1;32m    246\u001b[0m \u001b[0;34m\u001b[0m\u001b[0m\n\u001b[1;32m    247\u001b[0m         \u001b[0;31m# compute the result using the series generator\u001b[0m\u001b[0;34m\u001b[0m\u001b[0;34m\u001b[0m\u001b[0;34m\u001b[0m\u001b[0m\n\u001b[0;32m--> 248\u001b[0;31m         \u001b[0mself\u001b[0m\u001b[0;34m.\u001b[0m\u001b[0mapply_series_generator\u001b[0m\u001b[0;34m(\u001b[0m\u001b[0;34m)\u001b[0m\u001b[0;34m\u001b[0m\u001b[0;34m\u001b[0m\u001b[0m\n\u001b[0m\u001b[1;32m    249\u001b[0m \u001b[0;34m\u001b[0m\u001b[0m\n\u001b[1;32m    250\u001b[0m         \u001b[0;31m# wrap results\u001b[0m\u001b[0;34m\u001b[0m\u001b[0;34m\u001b[0m\u001b[0;34m\u001b[0m\u001b[0m\n",
      "\u001b[0;32m~/miniconda3/lib/python3.7/site-packages/pandas/core/apply.py\u001b[0m in \u001b[0;36mapply_series_generator\u001b[0;34m(self)\u001b[0m\n\u001b[1;32m    275\u001b[0m             \u001b[0;32mtry\u001b[0m\u001b[0;34m:\u001b[0m\u001b[0;34m\u001b[0m\u001b[0;34m\u001b[0m\u001b[0m\n\u001b[1;32m    276\u001b[0m                 \u001b[0;32mfor\u001b[0m \u001b[0mi\u001b[0m\u001b[0;34m,\u001b[0m \u001b[0mv\u001b[0m \u001b[0;32min\u001b[0m \u001b[0menumerate\u001b[0m\u001b[0;34m(\u001b[0m\u001b[0mseries_gen\u001b[0m\u001b[0;34m)\u001b[0m\u001b[0;34m:\u001b[0m\u001b[0;34m\u001b[0m\u001b[0;34m\u001b[0m\u001b[0m\n\u001b[0;32m--> 277\u001b[0;31m                     \u001b[0mresults\u001b[0m\u001b[0;34m[\u001b[0m\u001b[0mi\u001b[0m\u001b[0;34m]\u001b[0m \u001b[0;34m=\u001b[0m \u001b[0mself\u001b[0m\u001b[0;34m.\u001b[0m\u001b[0mf\u001b[0m\u001b[0;34m(\u001b[0m\u001b[0mv\u001b[0m\u001b[0;34m)\u001b[0m\u001b[0;34m\u001b[0m\u001b[0;34m\u001b[0m\u001b[0m\n\u001b[0m\u001b[1;32m    278\u001b[0m                     \u001b[0mkeys\u001b[0m\u001b[0;34m.\u001b[0m\u001b[0mappend\u001b[0m\u001b[0;34m(\u001b[0m\u001b[0mv\u001b[0m\u001b[0;34m.\u001b[0m\u001b[0mname\u001b[0m\u001b[0;34m)\u001b[0m\u001b[0;34m\u001b[0m\u001b[0;34m\u001b[0m\u001b[0m\n\u001b[1;32m    279\u001b[0m             \u001b[0;32mexcept\u001b[0m \u001b[0mException\u001b[0m \u001b[0;32mas\u001b[0m \u001b[0me\u001b[0m\u001b[0;34m:\u001b[0m\u001b[0;34m\u001b[0m\u001b[0;34m\u001b[0m\u001b[0m\n",
      "\u001b[0;32m<ipython-input-15-c4af959eafc9>\u001b[0m in \u001b[0;36m<lambda>\u001b[0;34m(row)\u001b[0m\n\u001b[0;32m----> 1\u001b[0;31m \u001b[0mdf\u001b[0m\u001b[0;34m.\u001b[0m\u001b[0mapply\u001b[0m\u001b[0;34m(\u001b[0m\u001b[0;32mlambda\u001b[0m \u001b[0mrow\u001b[0m\u001b[0;34m:\u001b[0m \u001b[0mburst\u001b[0m\u001b[0;34m(\u001b[0m\u001b[0mrow\u001b[0m\u001b[0;34m[\u001b[0m\u001b[0;34m'fname'\u001b[0m\u001b[0;34m]\u001b[0m\u001b[0;34m.\u001b[0m\u001b[0mreplace\u001b[0m\u001b[0;34m(\u001b[0m\u001b[0;34m'.TextGrid'\u001b[0m\u001b[0;34m,\u001b[0m \u001b[0;34m'.wav'\u001b[0m\u001b[0;34m)\u001b[0m\u001b[0;34m.\u001b[0m\u001b[0mreplace\u001b[0m\u001b[0;34m(\u001b[0m\u001b[0;34m'aligned'\u001b[0m\u001b[0;34m,\u001b[0m\u001b[0;34m'unaligned'\u001b[0m\u001b[0;34m)\u001b[0m\u001b[0;34m,\u001b[0m \u001b[0mrow\u001b[0m\u001b[0;34m[\u001b[0m\u001b[0;34m'new_start'\u001b[0m\u001b[0;34m]\u001b[0m\u001b[0;34m*\u001b[0m\u001b[0;36m1000\u001b[0m\u001b[0;34m,\u001b[0m \u001b[0mrow\u001b[0m\u001b[0;34m[\u001b[0m\u001b[0;34m'phon_end'\u001b[0m\u001b[0;34m]\u001b[0m\u001b[0;34m*\u001b[0m\u001b[0;36m1000\u001b[0m\u001b[0;34m)\u001b[0m\u001b[0;34m,\u001b[0m \u001b[0maxis\u001b[0m \u001b[0;34m=\u001b[0m \u001b[0;36m1\u001b[0m\u001b[0;34m)\u001b[0m\u001b[0;34m\u001b[0m\u001b[0;34m\u001b[0m\u001b[0m\n\u001b[0m\u001b[1;32m      2\u001b[0m \u001b[0;31m# detect burst -  return location in time and strength of burst\u001b[0m\u001b[0;34m\u001b[0m\u001b[0;34m\u001b[0m\u001b[0;34m\u001b[0m\u001b[0m\n\u001b[1;32m      3\u001b[0m \u001b[0;31m#(b_time,b_strength) = burst(wav,phone.t1, phone.t2)\u001b[0m\u001b[0;34m\u001b[0m\u001b[0;34m\u001b[0m\u001b[0;34m\u001b[0m\u001b[0m\n",
      "\u001b[0;32m<ipython-input-5-a89d4ca06432>\u001b[0m in \u001b[0;36mburst\u001b[0;34m(soundfile, start_time, end_time)\u001b[0m\n\u001b[1;32m    197\u001b[0m     \u001b[0;31m# 'wave_burst' function (defined earlier) finds values associated with stop burst in waveform\u001b[0m\u001b[0;34m\u001b[0m\u001b[0;34m\u001b[0m\u001b[0;34m\u001b[0m\u001b[0m\n\u001b[1;32m    198\u001b[0m     \u001b[0mwave_burst\u001b[0m\u001b[0;34m(\u001b[0m\u001b[0mt\u001b[0m\u001b[0;34m,\u001b[0m\u001b[0msf\u001b[0m\u001b[0;34m,\u001b[0m\u001b[0mpol\u001b[0m\u001b[0;34m,\u001b[0m\u001b[0mdata\u001b[0m\u001b[0;34m)\u001b[0m \u001b[0;31m# looks for big jumps in waveform\u001b[0m\u001b[0;34m\u001b[0m\u001b[0;34m\u001b[0m\u001b[0m\n\u001b[0;32m--> 199\u001b[0;31m     \u001b[0mspec_burst\u001b[0m\u001b[0;34m(\u001b[0m\u001b[0ms_samp\u001b[0m\u001b[0;34m,\u001b[0m\u001b[0me_samp\u001b[0m\u001b[0;34m,\u001b[0m\u001b[0mt\u001b[0m\u001b[0;34m,\u001b[0m\u001b[0msf\u001b[0m\u001b[0;34m,\u001b[0m\u001b[0msd\u001b[0m\u001b[0;34m)\u001b[0m \u001b[0;31m# looks for big jumps in spectra\u001b[0m\u001b[0;34m\u001b[0m\u001b[0;34m\u001b[0m\u001b[0m\n\u001b[0m\u001b[1;32m    200\u001b[0m \u001b[0;34m\u001b[0m\u001b[0m\n\u001b[1;32m    201\u001b[0m         \u001b[0;31m# candidate is a dictionary/dict that will have 0-3 entries depending on loop\u001b[0m\u001b[0;34m\u001b[0m\u001b[0;34m\u001b[0m\u001b[0;34m\u001b[0m\u001b[0m\n",
      "\u001b[0;32m<ipython-input-5-a89d4ca06432>\u001b[0m in \u001b[0;36mspec_burst\u001b[0;34m(s, e, t, sf, sd)\u001b[0m\n\u001b[1;32m    143\u001b[0m     \u001b[0mret\u001b[0m\u001b[0;34m=\u001b[0m\u001b[0msubprocess\u001b[0m\u001b[0;34m.\u001b[0m\u001b[0mcheck_call\u001b[0m\u001b[0;34m(\u001b[0m\u001b[0;34m\"melspec -H300:{} -n60 temp1.fea temp2.fea\"\u001b[0m\u001b[0;34m.\u001b[0m\u001b[0mformat\u001b[0m\u001b[0;34m(\u001b[0m\u001b[0mnyquist\u001b[0m\u001b[0;34m)\u001b[0m\u001b[0;34m.\u001b[0m\u001b[0msplit\u001b[0m\u001b[0;34m(\u001b[0m\u001b[0;34m)\u001b[0m\u001b[0;34m)\u001b[0m\u001b[0;34m\u001b[0m\u001b[0;34m\u001b[0m\u001b[0m\n\u001b[1;32m    144\u001b[0m     \u001b[0mret\u001b[0m\u001b[0;34m=\u001b[0m\u001b[0msubprocess\u001b[0m\u001b[0;34m.\u001b[0m\u001b[0mcheck_call\u001b[0m\u001b[0;34m(\u001b[0m\u001b[0;34m\"nodiff -o1 -fre_spec_val temp2.fea nodiff.fea\"\u001b[0m\u001b[0;34m.\u001b[0m\u001b[0msplit\u001b[0m\u001b[0;34m(\u001b[0m\u001b[0;34m)\u001b[0m\u001b[0;34m)\u001b[0m  \u001b[0;31m# spectral change\u001b[0m\u001b[0;34m\u001b[0m\u001b[0;34m\u001b[0m\u001b[0m\n\u001b[0;32m--> 145\u001b[0;31m     \u001b[0mdiffstring\u001b[0m \u001b[0;34m=\u001b[0m \u001b[0msubprocess\u001b[0m\u001b[0;34m.\u001b[0m\u001b[0mcheck_output\u001b[0m\u001b[0;34m(\u001b[0m\u001b[0;34m[\u001b[0m\u001b[0;34m\"pplain\"\u001b[0m\u001b[0;34m,\u001b[0m\u001b[0;34m\"-fre_spec_val_d1\"\u001b[0m\u001b[0;34m,\u001b[0m\u001b[0;34m\"nodiff.fea\"\u001b[0m\u001b[0;34m]\u001b[0m\u001b[0;34m)\u001b[0m\u001b[0;34m\u001b[0m\u001b[0;34m\u001b[0m\u001b[0m\n\u001b[0m\u001b[1;32m    146\u001b[0m     \u001b[0mlines\u001b[0m \u001b[0;34m=\u001b[0m \u001b[0mdiffstring\u001b[0m\u001b[0;34m.\u001b[0m\u001b[0mdecode\u001b[0m\u001b[0;34m(\u001b[0m\u001b[0;34m)\u001b[0m\u001b[0;34m.\u001b[0m\u001b[0mrstrip\u001b[0m\u001b[0;34m(\u001b[0m\u001b[0;34m)\u001b[0m\u001b[0;34m.\u001b[0m\u001b[0msplit\u001b[0m\u001b[0;34m(\u001b[0m\u001b[0;34m'\\n'\u001b[0m\u001b[0;34m)\u001b[0m    \u001b[0;31m# break the string into separate values\u001b[0m\u001b[0;34m\u001b[0m\u001b[0;34m\u001b[0m\u001b[0m\n\u001b[1;32m    147\u001b[0m     \u001b[0;32mfor\u001b[0m \u001b[0ml\u001b[0m \u001b[0;32min\u001b[0m \u001b[0mlines\u001b[0m\u001b[0;34m:\u001b[0m\u001b[0;34m\u001b[0m\u001b[0;34m\u001b[0m\u001b[0m\n",
      "\u001b[0;32m~/miniconda3/lib/python3.7/subprocess.py\u001b[0m in \u001b[0;36mcheck_output\u001b[0;34m(timeout, *popenargs, **kwargs)\u001b[0m\n\u001b[1;32m    393\u001b[0m \u001b[0;34m\u001b[0m\u001b[0m\n\u001b[1;32m    394\u001b[0m     return run(*popenargs, stdout=PIPE, timeout=timeout, check=True,\n\u001b[0;32m--> 395\u001b[0;31m                **kwargs).stdout\n\u001b[0m\u001b[1;32m    396\u001b[0m \u001b[0;34m\u001b[0m\u001b[0m\n\u001b[1;32m    397\u001b[0m \u001b[0;34m\u001b[0m\u001b[0m\n",
      "\u001b[0;32m~/miniconda3/lib/python3.7/subprocess.py\u001b[0m in \u001b[0;36mrun\u001b[0;34m(input, capture_output, timeout, check, *popenargs, **kwargs)\u001b[0m\n\u001b[1;32m    485\u001b[0m         \u001b[0;32mif\u001b[0m \u001b[0mcheck\u001b[0m \u001b[0;32mand\u001b[0m \u001b[0mretcode\u001b[0m\u001b[0;34m:\u001b[0m\u001b[0;34m\u001b[0m\u001b[0;34m\u001b[0m\u001b[0m\n\u001b[1;32m    486\u001b[0m             raise CalledProcessError(retcode, process.args,\n\u001b[0;32m--> 487\u001b[0;31m                                      output=stdout, stderr=stderr)\n\u001b[0m\u001b[1;32m    488\u001b[0m     \u001b[0;32mreturn\u001b[0m \u001b[0mCompletedProcess\u001b[0m\u001b[0;34m(\u001b[0m\u001b[0mprocess\u001b[0m\u001b[0;34m.\u001b[0m\u001b[0margs\u001b[0m\u001b[0;34m,\u001b[0m \u001b[0mretcode\u001b[0m\u001b[0;34m,\u001b[0m \u001b[0mstdout\u001b[0m\u001b[0;34m,\u001b[0m \u001b[0mstderr\u001b[0m\u001b[0;34m)\u001b[0m\u001b[0;34m\u001b[0m\u001b[0;34m\u001b[0m\u001b[0m\n\u001b[1;32m    489\u001b[0m \u001b[0;34m\u001b[0m\u001b[0m\n",
      "\u001b[0;31mCalledProcessError\u001b[0m: Command '['pplain', '-fre_spec_val_d1', 'nodiff.fea']' returned non-zero exit status 1."
     ]
    }
   ],
   "source": [
    "df.apply(lambda row: burst(row['fname'].replace('.TextGrid', '.wav').replace('aligned','unaligned'), row['new_start']*1000, row['phon_end']*1000), axis = 1)\n",
    "# detect burst -  return location in time and strength of burst\n",
    "#(b_time,b_strength) = burst(wav,phone.t1, phone.t2)"
   ]
  },
  {
   "cell_type": "code",
   "execution_count": 20,
   "id": "50e28398",
   "metadata": {},
   "outputs": [
    {
     "data": {
      "text/plain": [
       "1.47"
      ]
     },
     "execution_count": 20,
     "metadata": {},
     "output_type": "execute_result"
    }
   ],
   "source": [
    "test['fname'].replace('.TextGrid', '.wav').replace('aligned', 'unaligned')\n",
    "test['new_start']\n",
    "test['phon_end']"
   ]
  },
  {
   "cell_type": "code",
   "execution_count": 16,
   "id": "25e343cb",
   "metadata": {},
   "outputs": [
    {
     "ename": "CalledProcessError",
     "evalue": "Command '['pplain', '-fre_spec_val_d1', 'nodiff.fea']' returned non-zero exit status 1.",
     "output_type": "error",
     "traceback": [
      "\u001b[0;31m---------------------------------------------------------------------------\u001b[0m",
      "\u001b[0;31mCalledProcessError\u001b[0m                        Traceback (most recent call last)",
      "\u001b[0;32m<ipython-input-16-b2c4d67d2208>\u001b[0m in \u001b[0;36m<module>\u001b[0;34m\u001b[0m\n\u001b[1;32m      1\u001b[0m \u001b[0mtest\u001b[0m \u001b[0;34m=\u001b[0m \u001b[0mdf\u001b[0m\u001b[0;34m.\u001b[0m\u001b[0miloc\u001b[0m\u001b[0;34m[\u001b[0m\u001b[0;36m1\u001b[0m\u001b[0;34m]\u001b[0m\u001b[0;34m\u001b[0m\u001b[0;34m\u001b[0m\u001b[0m\n\u001b[1;32m      2\u001b[0m \u001b[0;34m\u001b[0m\u001b[0m\n\u001b[0;32m----> 3\u001b[0;31m \u001b[0mburst\u001b[0m\u001b[0;34m(\u001b[0m\u001b[0mtest\u001b[0m\u001b[0;34m[\u001b[0m\u001b[0;34m'fname'\u001b[0m\u001b[0;34m]\u001b[0m\u001b[0;34m.\u001b[0m\u001b[0mreplace\u001b[0m\u001b[0;34m(\u001b[0m\u001b[0;34m'.TextGrid'\u001b[0m\u001b[0;34m,\u001b[0m \u001b[0;34m'.wav'\u001b[0m\u001b[0;34m)\u001b[0m\u001b[0;34m.\u001b[0m\u001b[0mreplace\u001b[0m\u001b[0;34m(\u001b[0m\u001b[0;34m'aligned'\u001b[0m\u001b[0;34m,\u001b[0m \u001b[0;34m'unaligned'\u001b[0m\u001b[0;34m)\u001b[0m\u001b[0;34m,\u001b[0m \u001b[0mtest\u001b[0m\u001b[0;34m[\u001b[0m\u001b[0;34m'new_start'\u001b[0m\u001b[0;34m]\u001b[0m\u001b[0;34m*\u001b[0m\u001b[0;36m1000\u001b[0m\u001b[0;34m,\u001b[0m \u001b[0mtest\u001b[0m\u001b[0;34m[\u001b[0m\u001b[0;34m'phon_end'\u001b[0m\u001b[0;34m]\u001b[0m\u001b[0;34m*\u001b[0m\u001b[0;36m1000\u001b[0m\u001b[0;34m)\u001b[0m\u001b[0;34m\u001b[0m\u001b[0;34m\u001b[0m\u001b[0m\n\u001b[0m",
      "\u001b[0;32m<ipython-input-5-a89d4ca06432>\u001b[0m in \u001b[0;36mburst\u001b[0;34m(soundfile, start_time, end_time)\u001b[0m\n\u001b[1;32m    197\u001b[0m     \u001b[0;31m# 'wave_burst' function (defined earlier) finds values associated with stop burst in waveform\u001b[0m\u001b[0;34m\u001b[0m\u001b[0;34m\u001b[0m\u001b[0;34m\u001b[0m\u001b[0m\n\u001b[1;32m    198\u001b[0m     \u001b[0mwave_burst\u001b[0m\u001b[0;34m(\u001b[0m\u001b[0mt\u001b[0m\u001b[0;34m,\u001b[0m\u001b[0msf\u001b[0m\u001b[0;34m,\u001b[0m\u001b[0mpol\u001b[0m\u001b[0;34m,\u001b[0m\u001b[0mdata\u001b[0m\u001b[0;34m)\u001b[0m \u001b[0;31m# looks for big jumps in waveform\u001b[0m\u001b[0;34m\u001b[0m\u001b[0;34m\u001b[0m\u001b[0m\n\u001b[0;32m--> 199\u001b[0;31m     \u001b[0mspec_burst\u001b[0m\u001b[0;34m(\u001b[0m\u001b[0ms_samp\u001b[0m\u001b[0;34m,\u001b[0m\u001b[0me_samp\u001b[0m\u001b[0;34m,\u001b[0m\u001b[0mt\u001b[0m\u001b[0;34m,\u001b[0m\u001b[0msf\u001b[0m\u001b[0;34m,\u001b[0m\u001b[0msd\u001b[0m\u001b[0;34m)\u001b[0m \u001b[0;31m# looks for big jumps in spectra\u001b[0m\u001b[0;34m\u001b[0m\u001b[0;34m\u001b[0m\u001b[0m\n\u001b[0m\u001b[1;32m    200\u001b[0m \u001b[0;34m\u001b[0m\u001b[0m\n\u001b[1;32m    201\u001b[0m         \u001b[0;31m# candidate is a dictionary/dict that will have 0-3 entries depending on loop\u001b[0m\u001b[0;34m\u001b[0m\u001b[0;34m\u001b[0m\u001b[0;34m\u001b[0m\u001b[0m\n",
      "\u001b[0;32m<ipython-input-5-a89d4ca06432>\u001b[0m in \u001b[0;36mspec_burst\u001b[0;34m(s, e, t, sf, sd)\u001b[0m\n\u001b[1;32m    143\u001b[0m     \u001b[0mret\u001b[0m\u001b[0;34m=\u001b[0m\u001b[0msubprocess\u001b[0m\u001b[0;34m.\u001b[0m\u001b[0mcheck_call\u001b[0m\u001b[0;34m(\u001b[0m\u001b[0;34m\"melspec -H300:{} -n60 temp1.fea temp2.fea\"\u001b[0m\u001b[0;34m.\u001b[0m\u001b[0mformat\u001b[0m\u001b[0;34m(\u001b[0m\u001b[0mnyquist\u001b[0m\u001b[0;34m)\u001b[0m\u001b[0;34m.\u001b[0m\u001b[0msplit\u001b[0m\u001b[0;34m(\u001b[0m\u001b[0;34m)\u001b[0m\u001b[0;34m)\u001b[0m\u001b[0;34m\u001b[0m\u001b[0;34m\u001b[0m\u001b[0m\n\u001b[1;32m    144\u001b[0m     \u001b[0mret\u001b[0m\u001b[0;34m=\u001b[0m\u001b[0msubprocess\u001b[0m\u001b[0;34m.\u001b[0m\u001b[0mcheck_call\u001b[0m\u001b[0;34m(\u001b[0m\u001b[0;34m\"nodiff -o1 -fre_spec_val temp2.fea nodiff.fea\"\u001b[0m\u001b[0;34m.\u001b[0m\u001b[0msplit\u001b[0m\u001b[0;34m(\u001b[0m\u001b[0;34m)\u001b[0m\u001b[0;34m)\u001b[0m  \u001b[0;31m# spectral change\u001b[0m\u001b[0;34m\u001b[0m\u001b[0;34m\u001b[0m\u001b[0m\n\u001b[0;32m--> 145\u001b[0;31m     \u001b[0mdiffstring\u001b[0m \u001b[0;34m=\u001b[0m \u001b[0msubprocess\u001b[0m\u001b[0;34m.\u001b[0m\u001b[0mcheck_output\u001b[0m\u001b[0;34m(\u001b[0m\u001b[0;34m[\u001b[0m\u001b[0;34m\"pplain\"\u001b[0m\u001b[0;34m,\u001b[0m\u001b[0;34m\"-fre_spec_val_d1\"\u001b[0m\u001b[0;34m,\u001b[0m\u001b[0;34m\"nodiff.fea\"\u001b[0m\u001b[0;34m]\u001b[0m\u001b[0;34m)\u001b[0m\u001b[0;34m\u001b[0m\u001b[0;34m\u001b[0m\u001b[0m\n\u001b[0m\u001b[1;32m    146\u001b[0m     \u001b[0mlines\u001b[0m \u001b[0;34m=\u001b[0m \u001b[0mdiffstring\u001b[0m\u001b[0;34m.\u001b[0m\u001b[0mdecode\u001b[0m\u001b[0;34m(\u001b[0m\u001b[0;34m)\u001b[0m\u001b[0;34m.\u001b[0m\u001b[0mrstrip\u001b[0m\u001b[0;34m(\u001b[0m\u001b[0;34m)\u001b[0m\u001b[0;34m.\u001b[0m\u001b[0msplit\u001b[0m\u001b[0;34m(\u001b[0m\u001b[0;34m'\\n'\u001b[0m\u001b[0;34m)\u001b[0m    \u001b[0;31m# break the string into separate values\u001b[0m\u001b[0;34m\u001b[0m\u001b[0;34m\u001b[0m\u001b[0m\n\u001b[1;32m    147\u001b[0m     \u001b[0;32mfor\u001b[0m \u001b[0ml\u001b[0m \u001b[0;32min\u001b[0m \u001b[0mlines\u001b[0m\u001b[0;34m:\u001b[0m\u001b[0;34m\u001b[0m\u001b[0;34m\u001b[0m\u001b[0m\n",
      "\u001b[0;32m~/miniconda3/lib/python3.7/subprocess.py\u001b[0m in \u001b[0;36mcheck_output\u001b[0;34m(timeout, *popenargs, **kwargs)\u001b[0m\n\u001b[1;32m    393\u001b[0m \u001b[0;34m\u001b[0m\u001b[0m\n\u001b[1;32m    394\u001b[0m     return run(*popenargs, stdout=PIPE, timeout=timeout, check=True,\n\u001b[0;32m--> 395\u001b[0;31m                **kwargs).stdout\n\u001b[0m\u001b[1;32m    396\u001b[0m \u001b[0;34m\u001b[0m\u001b[0m\n\u001b[1;32m    397\u001b[0m \u001b[0;34m\u001b[0m\u001b[0m\n",
      "\u001b[0;32m~/miniconda3/lib/python3.7/subprocess.py\u001b[0m in \u001b[0;36mrun\u001b[0;34m(input, capture_output, timeout, check, *popenargs, **kwargs)\u001b[0m\n\u001b[1;32m    485\u001b[0m         \u001b[0;32mif\u001b[0m \u001b[0mcheck\u001b[0m \u001b[0;32mand\u001b[0m \u001b[0mretcode\u001b[0m\u001b[0;34m:\u001b[0m\u001b[0;34m\u001b[0m\u001b[0;34m\u001b[0m\u001b[0m\n\u001b[1;32m    486\u001b[0m             raise CalledProcessError(retcode, process.args,\n\u001b[0;32m--> 487\u001b[0;31m                                      output=stdout, stderr=stderr)\n\u001b[0m\u001b[1;32m    488\u001b[0m     \u001b[0;32mreturn\u001b[0m \u001b[0mCompletedProcess\u001b[0m\u001b[0;34m(\u001b[0m\u001b[0mprocess\u001b[0m\u001b[0;34m.\u001b[0m\u001b[0margs\u001b[0m\u001b[0;34m,\u001b[0m \u001b[0mretcode\u001b[0m\u001b[0;34m,\u001b[0m \u001b[0mstdout\u001b[0m\u001b[0;34m,\u001b[0m \u001b[0mstderr\u001b[0m\u001b[0;34m)\u001b[0m\u001b[0;34m\u001b[0m\u001b[0;34m\u001b[0m\u001b[0m\n\u001b[1;32m    489\u001b[0m \u001b[0;34m\u001b[0m\u001b[0m\n",
      "\u001b[0;31mCalledProcessError\u001b[0m: Command '['pplain', '-fre_spec_val_d1', 'nodiff.fea']' returned non-zero exit status 1."
     ]
    }
   ],
   "source": [
    "test = df.iloc[1]\n",
    "\n",
    "burst(test['fname'].replace('.TextGrid', '.wav').replace('aligned', 'unaligned'), test['new_start']*1000, test['phon_end']*1000)"
   ]
  },
  {
   "cell_type": "code",
   "execution_count": 14,
   "id": "9cb051e1",
   "metadata": {},
   "outputs": [
    {
     "data": {
      "text/plain": [
       "1320.0"
      ]
     },
     "execution_count": 14,
     "metadata": {},
     "output_type": "execute_result"
    }
   ],
   "source": [
    "test['new_start']*1000"
   ]
  },
  {
   "cell_type": "code",
   "execution_count": null,
   "id": "67052d2e",
   "metadata": {},
   "outputs": [],
   "source": [
    "target_segments = re.compile(u\"^(TH|DH|T|D|S|Z|SH|ZH|CH|J)$\",re.IGNORECASE)\n",
    "\n",
    "for jwdir in glob('./JW13'):\n",
    "    print(jwdir, sep=\"\\t\")\n",
    "\n",
    "    for tg in glob(jwdir + '/tp???.TextGrid'):\n",
    "        txy = tg.replace('.TextGrid', '.txy')\n",
    "        wav = tg.replace('.TextGrid', '.wav')\n",
    "        if not os.path.isfile(txy):\n",
    "            continue\n",
    "        #print(tg, sep=\"\\t\")\n",
    "        pm = al.LabelManager(from_file=tg, from_type='praat')\n",
    "        # here use pandas to read txy data as an R-like dataframe\n",
    "        df = pd.read_csv(txy,sep='\\t',na_values=\"1000000\",\n",
    "            names=[\n",
    "                'time', 'ULx', 'ULy', 'LLx', 'LLy', 'T1x', 'T1y', 'T2x', 'T2y',\n",
    "                'T3x', 'T3y', 'T4x', 'T4y', 'MIx', 'MIy', 'MMx', 'MMy'\n",
    "            ]\n",
    "        )\n",
    "        df = df * 1e-3  # convert xy to mm, and time values to msec\n",
    "        df['time'] = df['time'] * 1e-3   # Convert to seconds\n",
    "        df['sec'] = df['time']\n",
    "        df = df.set_index(['sec'])\n",
    "            \n",
    "        for phone in pm.tier('phone').search(target_segments):\n",
    "             word = (pm.tier('word').label_at(phone.center)).text\n",
    "             \n",
    "             # report on the context phones\n",
    "             try:  # in case the phone has no previous label\n",
    "                 previous_phone = (pm.tier('phone').prev(phone)).text\n",
    "             except:\n",
    "                 previous_phone = \"NONE\"\n",
    "             try:  # in case the phone has no following label\n",
    "                 following_phone = (pm.tier('phone').next(phone)).text\n",
    "             except:\n",
    "                 following_phone = \"NONE\"\n",
    "                 \n",
    "             # detect burst -  return location in time and strength of burst\n",
    "             (b_time,b_strength) = burst(wav,phone.t1, phone.t2)\n",
    "             \n",
    "             # select a window of data relative to the end of the phone (.t2)\n",
    "             t1idx = df.index.get_loc(phone.t2-0.2, method='nearest')\n",
    "             t2idx = df.index.get_loc(phone.t2+0.1, method='nearest')\n",
    "             \n",
    "             sel = df.iloc[t1idx:t2idx]\n",
    "             sel = sel.assign(time_from_end=lambda x: x.time - phone.t2,\n",
    "                               word=word,phone=phone.text,\n",
    "                               start=np.round(phone.t1,3),\n",
    "                               end=np.round(phone.t2,3),\n",
    "                               prev=previous_phone,\n",
    "                               following = following_phone,\n",
    "                               burst_time = np.round(b_time,3),\n",
    "                               burst_strength = np.round(b_strength,3),\n",
    "                               dir=jwdir,tg=tg\n",
    "                             )\n",
    "             #sel = sel.reset_index(drop=True)\n",
    "             try: \n",
    "                 big_df = pd.concat([big_df,sel])\n",
    "             except NameError:\n",
    "                 big_df = sel  # first time\n",
    "            \n",
    "             \n",
    "            \n",
    "    try:         \n",
    "        big_df.to_csv(jwdir + \"/COR_STOP_FRIC.csv\",index=False)            \n",
    "        del big_df    \n",
    "    except (RuntimeError, TypeError, NameError):\n",
    "        pass\n"
   ]
  }
 ],
 "metadata": {
  "kernelspec": {
   "display_name": "Python 3",
   "language": "python",
   "name": "python3"
  },
  "language_info": {
   "codemirror_mode": {
    "name": "ipython",
    "version": 3
   },
   "file_extension": ".py",
   "mimetype": "text/x-python",
   "name": "python",
   "nbconvert_exporter": "python",
   "pygments_lexer": "ipython3",
   "version": "3.7.3"
  }
 },
 "nbformat": 4,
 "nbformat_minor": 5
}
