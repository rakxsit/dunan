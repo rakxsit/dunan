{
 "cells": [
  {
   "cell_type": "code",
   "execution_count": 1,
   "id": "be8805b7",
   "metadata": {},
   "outputs": [],
   "source": [
    "# Align all .wav files in JW* directories for which a transcript .txt\n",
    "# file exists.\n",
    "\n",
    "import burst_detect as bd\n",
    "import os\n",
    "from glob import glob\n",
    "import numpy as np\n",
    "import pandas as pd\n",
    "\n",
    "import matplotlib.pyplot as plt"
   ]
  },
  {
   "cell_type": "code",
   "execution_count": 19,
   "id": "0f1231b2",
   "metadata": {},
   "outputs": [
    {
     "data": {
      "text/plain": [
       "4275"
      ]
     },
     "execution_count": 19,
     "metadata": {},
     "output_type": "execute_result"
    }
   ],
   "source": [
    "check = pd.read_csv('targets/target_phones_all.csv')"
   ]
  },
  {
   "cell_type": "code",
   "execution_count": 55,
   "id": "c12ff57c",
   "metadata": {},
   "outputs": [],
   "source": [
    "df = pd.read_csv('targets/target_phones_nooutliers.csv')"
   ]
  },
  {
   "cell_type": "code",
   "execution_count": 56,
   "id": "7a2c6235",
   "metadata": {},
   "outputs": [
    {
     "data": {
      "text/plain": [
       "3261"
      ]
     },
     "execution_count": 56,
     "metadata": {},
     "output_type": "execute_result"
    }
   ],
   "source": [
    "len(df)"
   ]
  },
  {
   "cell_type": "code",
   "execution_count": 57,
   "id": "8da43201",
   "metadata": {},
   "outputs": [],
   "source": [
    "df['new_start'] = df.apply(lambda row: row['prev_phon_start'] if row['prev_phon'] == 'sp' else row['phon_start'], axis = 1)"
   ]
  },
  {
   "cell_type": "code",
   "execution_count": 58,
   "id": "d64ffaef",
   "metadata": {},
   "outputs": [],
   "source": [
    "df_stops = df.query('onset in [\"tt\", \"kk\", \"t\", \"k\"]').reset_index(drop = True)"
   ]
  },
  {
   "cell_type": "code",
   "execution_count": 60,
   "id": "210d2336",
   "metadata": {},
   "outputs": [
    {
     "data": {
      "text/plain": [
       "1414"
      ]
     },
     "execution_count": 60,
     "metadata": {},
     "output_type": "execute_result"
    }
   ],
   "source": [
    "len(df_stops)"
   ]
  },
  {
   "cell_type": "code",
   "execution_count": 37,
   "id": "753c375e",
   "metadata": {},
   "outputs": [],
   "source": [
    "#df_stops.to_csv('targets/stop_targets.csv', index = False)"
   ]
  },
  {
   "cell_type": "code",
   "execution_count": 38,
   "id": "45f20ac7",
   "metadata": {
    "collapsed": true,
    "jupyter": {
     "outputs_hidden": true
    },
    "tags": []
   },
   "outputs": [],
   "source": [
    "b_time = []\n",
    "b_strength = []\n",
    "\n",
    "for i, row in df_stops.iterrows():\n",
    "    \n",
    "    time, strength = bd.burst(row['fname'].replace('.TextGrid', '.wav').replace('aligned','unaligned'), row['new_start'], row['phon_end'])\n",
    "    \n",
    "    b_time.append(time)\n",
    "    b_strength.append(strength)\n",
    "    \n",
    "# detect burst -  return location in time and strength of burst\n",
    "#(b_time,b_strength) = burst(wav,phone.t1, phone.t2)"
   ]
  },
  {
   "cell_type": "code",
   "execution_count": 41,
   "id": "833c1b6d",
   "metadata": {},
   "outputs": [],
   "source": [
    "df_stops['burst_time'] = b_time\n",
    "df_stops['burst_strength'] = b_strength\n",
    "\n",
    "df_stops = df_stops.drop('Unnamed: 0', axis = 1)\n",
    "\n",
    "df_stops.to_csv('targets/stop_targets.csv', index = False)"
   ]
  },
  {
   "cell_type": "markdown",
   "id": "ff4aeffb-439f-48bd-9f8d-a9d0f6199be3",
   "metadata": {},
   "source": [
    "# Visualize"
   ]
  },
  {
   "cell_type": "code",
   "execution_count": 51,
   "id": "fc5acd19-bd85-4659-bcc3-b89217042cdd",
   "metadata": {},
   "outputs": [],
   "source": [
    "burst_df = pd.read_csv('targets/stop_targets.csv')"
   ]
  },
  {
   "cell_type": "code",
   "execution_count": 52,
   "id": "2d056972-9964-4398-bd8c-df1eac26ae64",
   "metadata": {},
   "outputs": [],
   "source": [
    "burst_df['VOT'] = (burst_df['phon_end'] - burst_df['burst_time'])*1000\n",
    "burst_df['closure_duration'] = (burst_df['burst_time'] - burst_df['new_start'])*1000"
   ]
  },
  {
   "cell_type": "code",
   "execution_count": 64,
   "id": "dc596699-aed4-4d1d-ba0e-84324404e9f3",
   "metadata": {},
   "outputs": [
    {
     "data": {
      "text/plain": [
       "k     121\n",
       "tt     27\n",
       "t      11\n",
       "kk      7\n",
       "Name: onset, dtype: int64"
      ]
     },
     "execution_count": 64,
     "metadata": {},
     "output_type": "execute_result"
    }
   ],
   "source": [
    "burst_df.query('burst_time == -1').onset.value_counts()#.to_csv('burst/no_burst.csv')"
   ]
  },
  {
   "cell_type": "code",
   "execution_count": 41,
   "id": "1dfdd789-fea5-4700-b050-5cc7d8d86efc",
   "metadata": {},
   "outputs": [],
   "source": [
    "burst_df = burst_df.query('burst_time != -1')"
   ]
  },
  {
   "cell_type": "code",
   "execution_count": 50,
   "id": "a2763452-9591-4256-bd49-67e54afebe95",
   "metadata": {},
   "outputs": [],
   "source": [
    "#burst_df.to_csv('burst/burst.csv', index = False)"
   ]
  },
  {
   "cell_type": "code",
   "execution_count": 68,
   "id": "289d6a53-669b-4933-a536-d363d4640dc9",
   "metadata": {},
   "outputs": [
    {
     "data": {
      "text/plain": [
       "k     672\n",
       "tt    340\n",
       "t     338\n",
       "kk     64\n",
       "Name: onset, dtype: int64"
      ]
     },
     "execution_count": 68,
     "metadata": {},
     "output_type": "execute_result"
    }
   ],
   "source": [
    "burst_df.onset.value_counts()"
   ]
  },
  {
   "cell_type": "code",
   "execution_count": 65,
   "id": "ab8dfc39-3b37-4a15-a5e6-ce0b4d299931",
   "metadata": {},
   "outputs": [
    {
     "data": {
      "text/html": [
       "<div>\n",
       "<style scoped>\n",
       "    .dataframe tbody tr th:only-of-type {\n",
       "        vertical-align: middle;\n",
       "    }\n",
       "\n",
       "    .dataframe tbody tr th {\n",
       "        vertical-align: top;\n",
       "    }\n",
       "\n",
       "    .dataframe thead th {\n",
       "        text-align: right;\n",
       "    }\n",
       "</style>\n",
       "<table border=\"1\" class=\"dataframe\">\n",
       "  <thead>\n",
       "    <tr style=\"text-align: right;\">\n",
       "      <th></th>\n",
       "      <th>mean</th>\n",
       "      <th>std</th>\n",
       "    </tr>\n",
       "    <tr>\n",
       "      <th>onset</th>\n",
       "      <th></th>\n",
       "      <th></th>\n",
       "    </tr>\n",
       "  </thead>\n",
       "  <tbody>\n",
       "    <tr>\n",
       "      <th>k</th>\n",
       "      <td>2.891509</td>\n",
       "      <td>2.546089</td>\n",
       "    </tr>\n",
       "    <tr>\n",
       "      <th>kk</th>\n",
       "      <td>3.764367</td>\n",
       "      <td>2.602007</td>\n",
       "    </tr>\n",
       "    <tr>\n",
       "      <th>t</th>\n",
       "      <td>4.916054</td>\n",
       "      <td>2.917038</td>\n",
       "    </tr>\n",
       "    <tr>\n",
       "      <th>tt</th>\n",
       "      <td>5.144150</td>\n",
       "      <td>2.936907</td>\n",
       "    </tr>\n",
       "  </tbody>\n",
       "</table>\n",
       "</div>"
      ],
      "text/plain": [
       "           mean       std\n",
       "onset                    \n",
       "k      2.891509  2.546089\n",
       "kk     3.764367  2.602007\n",
       "t      4.916054  2.917038\n",
       "tt     5.144150  2.936907"
      ]
     },
     "execution_count": 65,
     "metadata": {},
     "output_type": "execute_result"
    }
   ],
   "source": [
    "burst_df.groupby('onset')['burst_strength'].agg(['mean','std'])"
   ]
  },
  {
   "cell_type": "code",
   "execution_count": 66,
   "id": "acd8d7d1-27fb-4d05-b775-5ea1c9e000b4",
   "metadata": {
    "collapsed": true,
    "jupyter": {
     "outputs_hidden": true,
     "source_hidden": true
    },
    "tags": []
   },
   "outputs": [
    {
     "data": {
      "image/png": "[encoded data removed]",
      "text/plain": [
       "<Figure size 432x288 with 1 Axes>"
      ]
     },
     "metadata": {
      "needs_background": "light"
     },
     "output_type": "display_data"
    }
   ],
   "source": [
    "sns.violinplot(data = burst_df, x = 'c_quality', y = 'burst_strength', hue = 'geminate')\n",
    "\n",
    "plt.savefig('burst/strength.png')"
   ]
  },
  {
   "cell_type": "code",
   "execution_count": 45,
   "id": "d463ff44-3437-4b67-a815-64aa4af126bb",
   "metadata": {},
   "outputs": [
    {
     "data": {
      "text/html": [
       "<div>\n",
       "<style scoped>\n",
       "    .dataframe tbody tr th:only-of-type {\n",
       "        vertical-align: middle;\n",
       "    }\n",
       "\n",
       "    .dataframe tbody tr th {\n",
       "        vertical-align: top;\n",
       "    }\n",
       "\n",
       "    .dataframe thead th {\n",
       "        text-align: right;\n",
       "    }\n",
       "</style>\n",
       "<table border=\"1\" class=\"dataframe\">\n",
       "  <thead>\n",
       "    <tr style=\"text-align: right;\">\n",
       "      <th></th>\n",
       "      <th>mean</th>\n",
       "      <th>std</th>\n",
       "    </tr>\n",
       "    <tr>\n",
       "      <th>onset</th>\n",
       "      <th></th>\n",
       "      <th></th>\n",
       "    </tr>\n",
       "  </thead>\n",
       "  <tbody>\n",
       "    <tr>\n",
       "      <th>k</th>\n",
       "      <td>56.978335</td>\n",
       "      <td>29.224933</td>\n",
       "    </tr>\n",
       "    <tr>\n",
       "      <th>kk</th>\n",
       "      <td>25.787281</td>\n",
       "      <td>25.679170</td>\n",
       "    </tr>\n",
       "    <tr>\n",
       "      <th>t</th>\n",
       "      <td>42.913417</td>\n",
       "      <td>23.456924</td>\n",
       "    </tr>\n",
       "    <tr>\n",
       "      <th>tt</th>\n",
       "      <td>13.650160</td>\n",
       "      <td>18.585165</td>\n",
       "    </tr>\n",
       "  </tbody>\n",
       "</table>\n",
       "</div>"
      ],
      "text/plain": [
       "            mean        std\n",
       "onset                      \n",
       "k      56.978335  29.224933\n",
       "kk     25.787281  25.679170\n",
       "t      42.913417  23.456924\n",
       "tt     13.650160  18.585165"
      ]
     },
     "execution_count": 45,
     "metadata": {},
     "output_type": "execute_result"
    }
   ],
   "source": [
    "burst_df.groupby('onset')['VOT'].agg(['mean','std'])"
   ]
  },
  {
   "cell_type": "code",
   "execution_count": 46,
   "id": "ef23b7f2-1b95-43d6-b32f-0913c575ae83",
   "metadata": {},
   "outputs": [
    {
     "data": {
      "text/html": [
       "<div>\n",
       "<style scoped>\n",
       "    .dataframe tbody tr th:only-of-type {\n",
       "        vertical-align: middle;\n",
       "    }\n",
       "\n",
       "    .dataframe tbody tr th {\n",
       "        vertical-align: top;\n",
       "    }\n",
       "\n",
       "    .dataframe thead th {\n",
       "        text-align: right;\n",
       "    }\n",
       "</style>\n",
       "<table border=\"1\" class=\"dataframe\">\n",
       "  <thead>\n",
       "    <tr style=\"text-align: right;\">\n",
       "      <th></th>\n",
       "      <th>mean</th>\n",
       "      <th>std</th>\n",
       "    </tr>\n",
       "    <tr>\n",
       "      <th>onset</th>\n",
       "      <th></th>\n",
       "      <th></th>\n",
       "    </tr>\n",
       "  </thead>\n",
       "  <tbody>\n",
       "    <tr>\n",
       "      <th>k</th>\n",
       "      <td>77.214043</td>\n",
       "      <td>35.298144</td>\n",
       "    </tr>\n",
       "    <tr>\n",
       "      <th>kk</th>\n",
       "      <td>108.247807</td>\n",
       "      <td>33.914700</td>\n",
       "    </tr>\n",
       "    <tr>\n",
       "      <th>t</th>\n",
       "      <td>87.147745</td>\n",
       "      <td>31.211696</td>\n",
       "    </tr>\n",
       "    <tr>\n",
       "      <th>tt</th>\n",
       "      <td>108.075080</td>\n",
       "      <td>39.880248</td>\n",
       "    </tr>\n",
       "  </tbody>\n",
       "</table>\n",
       "</div>"
      ],
      "text/plain": [
       "             mean        std\n",
       "onset                       \n",
       "k       77.214043  35.298144\n",
       "kk     108.247807  33.914700\n",
       "t       87.147745  31.211696\n",
       "tt     108.075080  39.880248"
      ]
     },
     "execution_count": 46,
     "metadata": {},
     "output_type": "execute_result"
    }
   ],
   "source": [
    "burst_df.groupby('onset')['closure_duration'].agg(['mean','std'])"
   ]
  },
  {
   "cell_type": "code",
   "execution_count": 48,
   "id": "8c75473c-34db-4999-b9ef-6b4c1f613f79",
   "metadata": {},
   "outputs": [
    {
     "data": {
      "image/png": "[encoded data removed]",
      "text/plain": [
       "<Figure size 432x288 with 1 Axes>"
      ]
     },
     "metadata": {
      "needs_background": "light"
     },
     "output_type": "display_data"
    }
   ],
   "source": [
    "sns.violinplot(data = burst_df, x = 'c_quality', y = 'closure_duration', hue = 'geminate')\n",
    "\n",
    "plt.savefig('burst/closure.png')"
   ]
  },
  {
   "cell_type": "code",
   "execution_count": 49,
   "id": "ccfd3998-b8ff-4dd9-922b-282d745b2666",
   "metadata": {},
   "outputs": [
    {
     "data": {
      "image/png": "[encoded data removed]",
      "text/plain": [
       "<Figure size 432x288 with 1 Axes>"
      ]
     },
     "metadata": {
      "needs_background": "light"
     },
     "output_type": "display_data"
    }
   ],
   "source": [
    "sns.violinplot(data = burst_df, x = 'c_quality', y = 'VOT', hue = 'geminate')\n",
    "\n",
    "plt.savefig('burst/vot.png')"
   ]
  },
  {
   "cell_type": "code",
   "execution_count": null,
   "id": "3713a694-2a45-4216-bcdb-1f296cd8a9f9",
   "metadata": {},
   "outputs": [],
   "source": []
  }
 ],
 "metadata": {
  "kernelspec": {
   "display_name": "Python 3",
   "language": "python",
   "name": "python3"
  },
  "language_info": {
   "codemirror_mode": {
    "name": "ipython",
    "version": 3
   },
   "file_extension": ".py",
   "mimetype": "text/x-python",
   "name": "python",
   "nbconvert_exporter": "python",
   "pygments_lexer": "ipython3",
   "version": "3.7.3"
  }
 },
 "nbformat": 4,
 "nbformat_minor": 5
}
